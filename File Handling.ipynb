{
 "cells": [
  {
   "cell_type": "markdown",
   "id": "6981853d",
   "metadata": {},
   "source": [
    "# Files, exceptional handling, logging and memory management Questions"
   ]
  },
  {
   "cell_type": "code",
   "execution_count": 2,
   "id": "03cbfaaf",
   "metadata": {},
   "outputs": [
    {
     "data": {
      "text/plain": [
       "'\\nInterpreted languages are those which converts the program line by line into machine redable code.\\nCompiled languages are those which first converts the program into machine redable code using compiler and then executes it\\n'"
      ]
     },
     "execution_count": 2,
     "metadata": {},
     "output_type": "execute_result"
    }
   ],
   "source": [
    "# 1. What is the difference between interpreted and compiled languages\n",
    "\"\"\"\n",
    "Interpreted languages are those which converts the program line by line into machine redable code.\n",
    "Compiled languages are those which first converts the program into machine redable code using compiler and then executes it\n",
    "\"\"\""
   ]
  },
  {
   "cell_type": "code",
   "execution_count": 4,
   "id": "c1b4b83f",
   "metadata": {},
   "outputs": [
    {
     "name": "stdout",
     "output_type": "stream",
     "text": [
      "Error:  division by zero\n"
     ]
    }
   ],
   "source": [
    "# 2. What is exception handling in Python?\n",
    "\"\"\"\n",
    "Exception handling in Python is the process of responding to runtime errors (also called exceptions) in a controlled way.\n",
    "It allows the program to continue running or to fail gracefully without crashing.\n",
    "If there is a possibility that an error might occur, we write that code inside a try block.\n",
    "If an exception occurs, the control is passed to the except block, where the error can be handled.\n",
    "\"\"\"\n",
    "\n",
    "# Example:\n",
    "try:\n",
    "    a = 2\n",
    "    b = 0\n",
    "    print(a/b)\n",
    "except ZeroDivisionError as e:\n",
    "    print(\"Error: \",e)"
   ]
  },
  {
   "cell_type": "code",
   "execution_count": 5,
   "id": "6f2a6a38",
   "metadata": {},
   "outputs": [
    {
     "name": "stdout",
     "output_type": "stream",
     "text": [
      "Error:  division by zero\n",
      "Error:  division by zero\n",
      "2.0\n"
     ]
    }
   ],
   "source": [
    "# 3. What is the purpose of the finally block in exception handling?\n",
    "\"\"\"\n",
    "Finally block continues the execution of code even after error has occoured. The finally block in Python is used to\n",
    "define a block of code that will always be executed, regardless of whether an exception was raised or not. \n",
    "\"\"\"\n",
    "# Example\n",
    "try:\n",
    "    a = 2\n",
    "    b = 0\n",
    "    print(a/b)\n",
    "    c = 1\n",
    "    print(a/c)\n",
    "except ZeroDivisionError as e:\n",
    "    print(\"Error: \",e)\n",
    "    \n",
    "try:\n",
    "    a = 2\n",
    "    b = 0\n",
    "    print(a/b)\n",
    "except ZeroDivisionError as e:\n",
    "    print(\"Error: \",e)\n",
    "finally:\n",
    "    c = 1\n",
    "    print(a/c)"
   ]
  },
  {
   "cell_type": "code",
   "execution_count": 6,
   "id": "7ef36ed9",
   "metadata": {},
   "outputs": [
    {
     "data": {
      "text/plain": [
       "'\\nIn python logging is the way to record the running status of the code. It helps in debugging the code.\\n'"
      ]
     },
     "execution_count": 6,
     "metadata": {},
     "output_type": "execute_result"
    }
   ],
   "source": [
    "# 4.  What is logging in Python?\n",
    "\"\"\"\n",
    "In python logging is the way to record the running status of the code. It helps in debugging the code.\n",
    "\"\"\""
   ]
  },
  {
   "cell_type": "code",
   "execution_count": 7,
   "id": "4552aa7a",
   "metadata": {},
   "outputs": [
    {
     "data": {
      "text/plain": [
       "'\\nThe __del__ method in Python is a destructor. It is a special method that is automatically called when an object \\nis about to be destroyed.\\n'"
      ]
     },
     "execution_count": 7,
     "metadata": {},
     "output_type": "execute_result"
    }
   ],
   "source": [
    "# 5. What is the significance of the __del__ method in Python?\n",
    "\"\"\"\n",
    "The __del__ method in Python is a destructor. It is a special method that is automatically called when an object \n",
    "is about to be destroyed.\n",
    "\"\"\""
   ]
  },
  {
   "cell_type": "code",
   "execution_count": 8,
   "id": "7213a71a",
   "metadata": {},
   "outputs": [
    {
     "data": {
      "text/plain": [
       "'\\nBoth import and from ... import are used to include modules and their contents in your Python code, but they differ in how they import and how you access\\nthe imported items.\\n    - import module_name : This imports the entire module.\\n    - from module_name import something : This imports specific functions, classes, or variables from a module directly.\\n'"
      ]
     },
     "execution_count": 8,
     "metadata": {},
     "output_type": "execute_result"
    }
   ],
   "source": [
    "# 6. What is the difference between import and from ... import in Python?\n",
    "\"\"\"\n",
    "Both import and from ... import are used to include modules and their contents in your Python code, but they differ in how they import and how you access\n",
    "the imported items.\n",
    "    - import module_name : This imports the entire module.\n",
    "    - from module_name import something : This imports specific functions, classes, or variables from a module directly.\n",
    "\"\"\""
   ]
  },
  {
   "cell_type": "code",
   "execution_count": 9,
   "id": "f0c12d80",
   "metadata": {},
   "outputs": [
    {
     "name": "stdout",
     "output_type": "stream",
     "text": [
      "Enter a number: a\n",
      "Error occurred: invalid literal for int() with base 10: 'a'\n"
     ]
    }
   ],
   "source": [
    "# 7. How can you handle multiple exceptions in Python?\n",
    "\"\"\"\n",
    "In python we can handle multiple exceptions using multiple except blocks or a single except block to handle multiple exceptions\n",
    "or a general exception to catch any exception.\n",
    "\"\"\"\n",
    "# Example\n",
    "try:\n",
    "    num = int(input(\"Enter a number: \"))\n",
    "    result = 10 / num\n",
    "except (ValueError, ZeroDivisionError) as e:\n",
    "    print(\"Error occurred:\", e)\n"
   ]
  },
  {
   "cell_type": "code",
   "execution_count": 10,
   "id": "5bceb29d",
   "metadata": {},
   "outputs": [
    {
     "data": {
      "text/plain": [
       "'\\nThe purpose of with statement is that when the execution of the block is completed the file is automatically closed.\\n'"
      ]
     },
     "execution_count": 10,
     "metadata": {},
     "output_type": "execute_result"
    }
   ],
   "source": [
    "# 8. What is the purpose of the with statement when handling files in Python?\n",
    "\"\"\"\n",
    "The purpose of with statement is that when the execution of the block is completed the file is automatically closed.\n",
    "\"\"\"\n"
   ]
  },
  {
   "cell_type": "code",
   "execution_count": null,
   "id": "e818e2e3",
   "metadata": {},
   "outputs": [],
   "source": [
    "# 9. What is the difference between multithreading and multiprocessing?\n",
    "\"\"\"\n",
    "Multithreading runs multiple threads within the same process, while multiprocessing runs multiple processes with separate\n",
    "memory spaces.\n",
    "\"\"\""
   ]
  },
  {
   "cell_type": "code",
   "execution_count": 11,
   "id": "ef9cb5b7",
   "metadata": {},
   "outputs": [
    {
     "data": {
      "text/plain": [
       "'\\nAdvantages of using logging in a program:\\n    - Debug of code becomes easy.\\n    - Keeps permenant record of the running of the code.\\n    - Catching errors and exceptions in the code.\\n'"
      ]
     },
     "execution_count": 11,
     "metadata": {},
     "output_type": "execute_result"
    }
   ],
   "source": [
    "# 10. What are the advantages of using logging in a program?\n",
    "\"\"\"\n",
    "Advantages of using logging in a program:\n",
    "    - Debug of code becomes easy.\n",
    "    - Keeps permenant record of the running of the code.\n",
    "    - Catching errors and exceptions in the code.\n",
    "\"\"\""
   ]
  },
  {
   "cell_type": "code",
   "execution_count": 12,
   "id": "3232c201",
   "metadata": {},
   "outputs": [
    {
     "data": {
      "text/plain": [
       "'\\nMemory management in Python is the process of allocating and deallocating memory to variables and data structures\\nduring program execution.\\n'"
      ]
     },
     "execution_count": 12,
     "metadata": {},
     "output_type": "execute_result"
    }
   ],
   "source": [
    "# 11. What is memory management in Python?\n",
    "\"\"\"\n",
    "Memory management in Python is the process of allocating and deallocating memory to variables and data structures\n",
    "during program execution.\n",
    "\"\"\""
   ]
  },
  {
   "cell_type": "code",
   "execution_count": 14,
   "id": "9f37f1df",
   "metadata": {},
   "outputs": [
    {
     "data": {
      "text/plain": [
       "'\\nBasic Steps involved in exception handling:\\n    - try : Code which may raise error is written here.\\n    - exception : Exceptions which may occour are written here.\\n    - Else : it is the block which runs when no exception occours.\\n    - finally : It is the code which runs regardless exceptio has occoured or .\\n'"
      ]
     },
     "execution_count": 14,
     "metadata": {},
     "output_type": "execute_result"
    }
   ],
   "source": [
    "# 12. What are the basic steps involved in exception handling in Python?\n",
    "\"\"\"\n",
    "Basic Steps involved in exception handling:\n",
    "    - try : Code which may raise error is written here.\n",
    "    - exception : Exceptions which may occour are written here.\n",
    "    - Else : it is the block which runs when no exception occours.\n",
    "    - finally : It is the code which runs regardless exceptio has occoured or .\n",
    "\"\"\""
   ]
  },
  {
   "cell_type": "code",
   "execution_count": 15,
   "id": "161bf2bf",
   "metadata": {},
   "outputs": [
    {
     "data": {
      "text/plain": [
       "'\\nMemory management is important in python:\\n    - Efficient Resource Use.\\n    - Scalablity\\n    - Better Performance of the program\\n'"
      ]
     },
     "execution_count": 15,
     "metadata": {},
     "output_type": "execute_result"
    }
   ],
   "source": [
    "# 13. Why is memory management important in Python?\n",
    "\"\"\"\n",
    "Memory management is important in python:\n",
    "    - Efficient Resource Use.\n",
    "    - Scalablity\n",
    "    - Better Performance of the program\n",
    "\"\"\""
   ]
  },
  {
   "cell_type": "code",
   "execution_count": 16,
   "id": "16b84cb7",
   "metadata": {},
   "outputs": [
    {
     "data": {
      "text/plain": [
       "'\\nRole of try and except in exception handling:\\n    - try : Code which may raise error is written here.\\n    - exception : Exceptions which may occour are written here.\\n'"
      ]
     },
     "execution_count": 16,
     "metadata": {},
     "output_type": "execute_result"
    }
   ],
   "source": [
    "# 14.  What is the role of try and except in exception handling?\n",
    "\"\"\"\n",
    "Role of try and except in exception handling:\n",
    "    - try : Code which may raise error is written here.\n",
    "    - exception : Exceptions which may occour are written here.\n",
    "\"\"\""
   ]
  },
  {
   "cell_type": "code",
   "execution_count": 17,
   "id": "fb9ab21c",
   "metadata": {},
   "outputs": [
    {
     "data": {
      "text/plain": [
       "'\\nPython’s garbage collection system automatically manages memory by freeing up space occupiedby objects that are no longer \\nneeded. It ensures your program doesn’t use unnecessary memory over time.\\n'"
      ]
     },
     "execution_count": 17,
     "metadata": {},
     "output_type": "execute_result"
    }
   ],
   "source": [
    "# 15. How does Python's garbage collection system work?\n",
    "\"\"\"\n",
    "Python’s garbage collection system automatically manages memory by freeing up space occupiedby objects that are no longer \n",
    "needed. It ensures your program doesn’t use unnecessary memory over time.\n",
    "\"\"\""
   ]
  },
  {
   "cell_type": "code",
   "execution_count": 18,
   "id": "9c6e4469",
   "metadata": {},
   "outputs": [
    {
     "data": {
      "text/plain": [
       "'\\nElse : it is the block which runs when no exception occours.\\n'"
      ]
     },
     "execution_count": 18,
     "metadata": {},
     "output_type": "execute_result"
    }
   ],
   "source": [
    "# 16. What is the purpose of the else block in exception handling?\n",
    "\"\"\"\n",
    "Else : it is the block which runs when no exception occours.\n",
    "\"\"\""
   ]
  },
  {
   "cell_type": "code",
   "execution_count": 20,
   "id": "c0355b09",
   "metadata": {},
   "outputs": [
    {
     "data": {
      "text/plain": [
       "'\\nCommon logging levels in Python:\\n    -DEBUG,\\n    -INFO,\\n    -WARNING, \\n    -ERROR,\\n    -CRITICAL\\n'"
      ]
     },
     "execution_count": 20,
     "metadata": {},
     "output_type": "execute_result"
    }
   ],
   "source": [
    "# 17. What are the common logging levels in Python?\n",
    "\"\"\"\n",
    "Common logging levels in Python:\n",
    "    -DEBUG,\n",
    "    -INFO,\n",
    "    -WARNING, \n",
    "    -ERROR,\n",
    "    -CRITICAL\n",
    "\"\"\""
   ]
  },
  {
   "cell_type": "code",
   "execution_count": 21,
   "id": "b4925c7d",
   "metadata": {},
   "outputs": [
    {
     "data": {
      "text/plain": [
       "'\\nos.fork() is a low-level Unix-only method to create processes, while multiprocessing is a high-level, cross-platform module \\nfor process-based parallelism.\\n'"
      ]
     },
     "execution_count": 21,
     "metadata": {},
     "output_type": "execute_result"
    }
   ],
   "source": [
    "# 18. What is the difference between os.fork() and multiprocessing in Python?\n",
    "\"\"\"\n",
    "os.fork() is a low-level Unix-only method to create processes, while multiprocessing is a high-level, cross-platform module \n",
    "for process-based parallelism.\n",
    "\"\"\""
   ]
  },
  {
   "cell_type": "code",
   "execution_count": 22,
   "id": "7edf24e0",
   "metadata": {},
   "outputs": [
    {
     "data": {
      "text/plain": [
       "'\\nClosing a file in Python is important because it frees system resources, ensures data is written properly, and prevents file \\ncorruption or memory leaks.\\n'"
      ]
     },
     "execution_count": 22,
     "metadata": {},
     "output_type": "execute_result"
    }
   ],
   "source": [
    "# 19. What is the importance of closing a file in Python?\n",
    "\"\"\"\n",
    "Closing a file in Python is important because it frees system resources, ensures data is written properly, and prevents file \n",
    "corruption or memory leaks.\n",
    "\"\"\""
   ]
  },
  {
   "cell_type": "code",
   "execution_count": 23,
   "id": "511c5c3c",
   "metadata": {},
   "outputs": [
    {
     "data": {
      "text/plain": [
       "'\\nfile.read() - reads entire file as it is.\\nfile.readline() - reads given number of files line by line if no number is passed it will read entire file line by line.\\n'"
      ]
     },
     "execution_count": 23,
     "metadata": {},
     "output_type": "execute_result"
    }
   ],
   "source": [
    "# 20. What is the difference between file.read() and file.readline() in Python?\n",
    "\"\"\"\n",
    "file.read() - reads entire file as it is.\n",
    "file.readline() - reads given number of files line by line if no number is passed it will read entire file line by line.\n",
    "\"\"\""
   ]
  },
  {
   "cell_type": "code",
   "execution_count": 24,
   "id": "daf737ab",
   "metadata": {},
   "outputs": [
    {
     "data": {
      "text/plain": [
       "'\\nRecord messages about a program’s execution, such as errors, warnings, info, or debugging details — for monitoring, debugging,\\nand maintaining applications.\\n'"
      ]
     },
     "execution_count": 24,
     "metadata": {},
     "output_type": "execute_result"
    }
   ],
   "source": [
    "# 21.  What is the logging module in Python used for?\n",
    "\"\"\"\n",
    "Record messages about a program’s execution, such as errors, warnings, info, or debugging details — for monitoring, debugging,\n",
    "and maintaining applications.\n",
    "\"\"\""
   ]
  },
  {
   "cell_type": "code",
   "execution_count": 25,
   "id": "18fe9a7d",
   "metadata": {},
   "outputs": [
    {
     "data": {
      "text/plain": [
       "'\\nInteract with the operating system, allowing you to perform file and directory operations like creating, deleting,\\nrenaming, or navigating folders.\\n'"
      ]
     },
     "execution_count": 25,
     "metadata": {},
     "output_type": "execute_result"
    }
   ],
   "source": [
    "# 22. What is the os module in Python used for in file handling?\n",
    "\"\"\"\n",
    "Interact with the operating system, allowing you to perform file and directory operations like creating, deleting,\n",
    "renaming, or navigating folders.\n",
    "\"\"\""
   ]
  },
  {
   "cell_type": "code",
   "execution_count": 26,
   "id": "8b5186b4",
   "metadata": {},
   "outputs": [
    {
     "data": {
      "text/plain": [
       "'\\nChallenges of Memory Management in Python:\\n    -Unused objects may stay in memory due to circular references.\\n    -Python gives limited control over how memory is managed.\\n\\n'"
      ]
     },
     "execution_count": 26,
     "metadata": {},
     "output_type": "execute_result"
    }
   ],
   "source": [
    "# 23. What are the challenges associated with memory management in Python?\n",
    "\"\"\"\n",
    "Challenges of Memory Management in Python:\n",
    "    -Unused objects may stay in memory due to circular references.\n",
    "    -Python gives limited control over how memory is managed.\n",
    "\n",
    "\"\"\""
   ]
  },
  {
   "cell_type": "code",
   "execution_count": 27,
   "id": "6e01940f",
   "metadata": {},
   "outputs": [
    {
     "ename": "ValueError",
     "evalue": "Age cannot be negative",
     "output_type": "error",
     "traceback": [
      "\u001b[1;31m---------------------------------------------------------------------------\u001b[0m",
      "\u001b[1;31mValueError\u001b[0m                                Traceback (most recent call last)",
      "\u001b[1;32m~\\AppData\\Local\\Temp\\ipykernel_8260\\2729905584.py\u001b[0m in \u001b[0;36m<module>\u001b[1;34m\u001b[0m\n\u001b[0;32m      6\u001b[0m \u001b[0mage\u001b[0m \u001b[1;33m=\u001b[0m \u001b[1;33m-\u001b[0m\u001b[1;36m1\u001b[0m\u001b[1;33m\u001b[0m\u001b[1;33m\u001b[0m\u001b[0m\n\u001b[0;32m      7\u001b[0m \u001b[1;32mif\u001b[0m \u001b[0mage\u001b[0m \u001b[1;33m<\u001b[0m \u001b[1;36m0\u001b[0m\u001b[1;33m:\u001b[0m\u001b[1;33m\u001b[0m\u001b[1;33m\u001b[0m\u001b[0m\n\u001b[1;32m----> 8\u001b[1;33m     \u001b[1;32mraise\u001b[0m \u001b[0mValueError\u001b[0m\u001b[1;33m(\u001b[0m\u001b[1;34m\"Age cannot be negative\"\u001b[0m\u001b[1;33m)\u001b[0m\u001b[1;33m\u001b[0m\u001b[1;33m\u001b[0m\u001b[0m\n\u001b[0m",
      "\u001b[1;31mValueError\u001b[0m: Age cannot be negative"
     ]
    }
   ],
   "source": [
    "# 24.  How do you raise an exception manually in Python?\n",
    "\"\"\"\n",
    "You can manually raise an exception in Python using the raise keyword.\n",
    "\"\"\"\n",
    "# Example:\n",
    "age = -1\n",
    "if age < 0:\n",
    "    raise ValueError(\"Age cannot be negative\")\n"
   ]
  },
  {
   "cell_type": "code",
   "execution_count": 28,
   "id": "dbaadb37",
   "metadata": {},
   "outputs": [
    {
     "data": {
      "text/plain": [
       "'\\nMultithreading is important in certain applications to improve performance by handling multiple tasks concurrently, \\nespecially in I/O-bound operations.\\n'"
      ]
     },
     "execution_count": 28,
     "metadata": {},
     "output_type": "execute_result"
    }
   ],
   "source": [
    "# 25. Why is it important to use multithreading in certain applications?\n",
    "\"\"\"\n",
    "Multithreading is important in certain applications to improve performance by handling multiple tasks concurrently, \n",
    "especially in I/O-bound operations.\n",
    "\"\"\""
   ]
  },
  {
   "cell_type": "markdown",
   "id": "3019fa39",
   "metadata": {},
   "source": [
    "# Practical Questions"
   ]
  },
  {
   "cell_type": "code",
   "execution_count": 29,
   "id": "f79b16d6",
   "metadata": {},
   "outputs": [],
   "source": [
    "# 1. How can you open a file for writing in Python and write a string to it\n",
    "with open(\"a.txt\",'w') as f:\n",
    "    f.write(\"I am Aditya Joshi\")"
   ]
  },
  {
   "cell_type": "code",
   "execution_count": 37,
   "id": "157f521c",
   "metadata": {},
   "outputs": [
    {
     "name": "stdout",
     "output_type": "stream",
     "text": [
      "Artificial intelligence (AI) is the capability of computational systems to perform tasks typically associated with human intelligence, such as learning, reasoning, problem-solving, perception, and decision-making. It is a field of research in computer science that develops and studies methods and software that enable machines to perceive their environment and use learning and intelligence to take actions that maximize their chances of achieving defined goals.[1]\n",
      "\n",
      "High-profile applications of AI include advanced web search engines (e.g., Google Search); recommendation systems (used by YouTube, Amazon, and Netflix); virtual assistants (e.g., Google Assistant, Siri, and Alexa); autonomous vehicles (e.g., Waymo); generative and creative tools (e.g., language models and AI art); and superhuman play and analysis in strategy games (e.g., chess and Go). However, many AI applications are not perceived as AI: \"A lot of cutting edge AI has filtered into general applications, often without being called AI because once something becomes useful enough and common enough it's not labeled AI anymore.\"[2][3]\n",
      "\n"
     ]
    }
   ],
   "source": [
    "# 2. Write a Python program to read the contents of a file and print each line\n",
    "with open(\"files/Ai.txt\",'r') as f:\n",
    "    f.seek(0)\n",
    "    lines = f.readlines()\n",
    "    for l in lines:\n",
    "        print(l.strip())"
   ]
  },
  {
   "cell_type": "code",
   "execution_count": 38,
   "id": "d5b6caf7",
   "metadata": {},
   "outputs": [
    {
     "name": "stdout",
     "output_type": "stream",
     "text": [
      "Artificial intelligence (AI) is the capability of computational systems to perform tasks typically associated with human intelligence, such as learning, reasoning, problem-solving, perception, and decision-making. It is a field of research in computer science that develops and studies methods and software that enable machines to perceive their environment and use learning and intelligence to take actions that maximize their chances of achieving defined goals.[1]\n",
      "\n",
      "High-profile applications of AI include advanced web search engines (e.g., Google Search); recommendation systems (used by YouTube, Amazon, and Netflix); virtual assistants (e.g., Google Assistant, Siri, and Alexa); autonomous vehicles (e.g., Waymo); generative and creative tools (e.g., language models and AI art); and superhuman play and analysis in strategy games (e.g., chess and Go). However, many AI applications are not perceived as AI: \"A lot of cutting edge AI has filtered into general applications, often without being called AI because once something becomes useful enough and common enough it's not labeled AI anymore.\"[2][3]\n",
      "\n"
     ]
    }
   ],
   "source": [
    "# 3. How would you handle a case where the file doesn't exist while trying to open it for reading\n",
    "try:\n",
    "    with open(\"files/Ai.txt\", 'r') as f:\n",
    "        for line in f:\n",
    "            print(line.strip())\n",
    "except FileNotFoundError:\n",
    "    print(\"Error: The file does not exist.\")\n"
   ]
  },
  {
   "cell_type": "code",
   "execution_count": 41,
   "id": "d22e17e1",
   "metadata": {},
   "outputs": [],
   "source": [
    "# 4. Write a Python script that reads from one file and writes its content to another file\n",
    "with open(\"files/Ai.txt\", 'r') as f:\n",
    "    with open(\"files/Ai1.txt\", 'w') as f1:\n",
    "        for line in f:\n",
    "            f1.write(line)\n"
   ]
  },
  {
   "cell_type": "code",
   "execution_count": 42,
   "id": "68daac71",
   "metadata": {},
   "outputs": [
    {
     "name": "stdout",
     "output_type": "stream",
     "text": [
      "Division by Zero not possible:  division by zero\n"
     ]
    }
   ],
   "source": [
    "# 5. How would you catch and handle division by zero error in Python\n",
    "try:\n",
    "    a = 10\n",
    "    b = 0\n",
    "    print(a/b)\n",
    "except ZeroDivisionError as e:\n",
    "    print(\"Division by Zero not possible: \",e)"
   ]
  },
  {
   "cell_type": "code",
   "execution_count": 43,
   "id": "00a3f74e",
   "metadata": {},
   "outputs": [
    {
     "name": "stdout",
     "output_type": "stream",
     "text": [
      "An error occurred. Check the log file for details.\n"
     ]
    }
   ],
   "source": [
    "# 6. Write a Python program that logs an error message to a log file when a division by zero exception occursF\n",
    "import logging\n",
    "logging.basicConfig(filename='error.log', level=logging.ERROR,\n",
    "                    format='%(asctime)s - %(levelname)s - %(message)s')\n",
    "\n",
    "try:\n",
    "    a = 10\n",
    "    b = 0\n",
    "    result = a / b\n",
    "except ZeroDivisionError as e:\n",
    "    logging.error(\"Division by zero error: %s\", e)\n",
    "    print(\"An error occurred. Check the log file for details.\")"
   ]
  },
  {
   "cell_type": "code",
   "execution_count": 45,
   "id": "cefadc82",
   "metadata": {},
   "outputs": [],
   "source": [
    "# 7. How do you log information at different levels (INFO, ERROR, WARNING) in Python using the logging module\n",
    "import logging\n",
    "logging.basicConfig(filename='error1.log',level=logging.DEBUG, format='%(levelname)s: %(message)s')\n",
    "\n",
    "logging.debug(\"This is a debug message\")\n",
    "logging.info(\"This is an info message\")\n",
    "logging.warning(\"This is a warning\")\n",
    "logging.error(\"This is an error\")\n",
    "logging.critical(\"This is critical\")\n"
   ]
  },
  {
   "cell_type": "code",
   "execution_count": 48,
   "id": "86db2dd3",
   "metadata": {},
   "outputs": [
    {
     "name": "stdout",
     "output_type": "stream",
     "text": [
      "Error:  [Errno 2] No such file or directory: 'files/ab.txt'\n"
     ]
    }
   ],
   "source": [
    "# 8.  Write a program to handle a file opening error using exception handling\n",
    "try:\n",
    "    with open(\"files/ab.txt\", 'r') as f:\n",
    "        f.readlines()\n",
    "except FileNotFoundError as e: \n",
    "    print(\"Error: \", e)"
   ]
  },
  {
   "cell_type": "code",
   "execution_count": 50,
   "id": "005c62bc",
   "metadata": {},
   "outputs": [
    {
     "name": "stdout",
     "output_type": "stream",
     "text": [
      "['Artificial intelligence (AI) is the capability of computational systems to perform tasks typically associated with human intelligence, such as learning, reasoning, problem-solving, perception, and decision-making. It is a field of research in computer science that develops and studies methods and software that enable machines to perceive their environment and use learning and intelligence to take actions that maximize their chances of achieving defined goals.[1]', '', 'High-profile applications of AI include advanced web search engines (e.g., Google Search); recommendation systems (used by YouTube, Amazon, and Netflix); virtual assistants (e.g., Google Assistant, Siri, and Alexa); autonomous vehicles (e.g., Waymo); generative and creative tools (e.g., language models and AI art); and superhuman play and analysis in strategy games (e.g., chess and Go). However, many AI applications are not perceived as AI: \"A lot of cutting edge AI has filtered into general applications, often without being called AI because once something becomes useful enough and common enough it\\'s not labeled AI anymore.\"[2][3]', '']\n"
     ]
    }
   ],
   "source": [
    "# 9.  How can you read a file line by line and store its content in a list in Python\n",
    "\n",
    "try:\n",
    "    file = []\n",
    "    with open(\"files/Ai.txt\", 'r') as f:\n",
    "        for line in f:\n",
    "            file.append(line.strip())\n",
    "        print(file)\n",
    "except FileNotFoundError:\n",
    "    print(\"Error: The file does not exist.\")\n"
   ]
  },
  {
   "cell_type": "code",
   "execution_count": 51,
   "id": "30eb6471",
   "metadata": {},
   "outputs": [],
   "source": [
    "# 10.  How can you append data to an existing file in Python\n",
    "try:\n",
    "    with open(\"files/Ai.txt\", 'a') as f:\n",
    "        f.write(\"Artificial intelligence was founded as an academic discipline in 1956,[6] and the field went through multiple cycles of optimism throughout its history,[7][8] followed by periods of disappointment and loss of funding, known as AI winters.[9][10] \")\n",
    "except FileNotFoundError as e: \n",
    "    print(\"Error: \", e)"
   ]
  },
  {
   "cell_type": "code",
   "execution_count": 53,
   "id": "1a45086d",
   "metadata": {},
   "outputs": [
    {
     "name": "stdout",
     "output_type": "stream",
     "text": [
      "education\n",
      "Error:  'education'\n"
     ]
    }
   ],
   "source": [
    "# 11. Write a Python program that uses a try-except block to handle an error when attempting to access a\n",
    "# dictionary key that doesn't exist\n",
    "\n",
    "d = {\n",
    "    \"name\" : \"Aditya\",\n",
    "    \"Age\" : 24\n",
    "}\n",
    "try:\n",
    "    key = input()\n",
    "    val = d[key]\n",
    "except KeyError as e:\n",
    "    print(\"Error: \",e)"
   ]
  },
  {
   "cell_type": "code",
   "execution_count": 54,
   "id": "44ed11fa",
   "metadata": {},
   "outputs": [
    {
     "name": "stdout",
     "output_type": "stream",
     "text": [
      "Enter a number: 12\n",
      "Error: List index out of range.\n"
     ]
    }
   ],
   "source": [
    "# 12. Write a program that demonstrates using multiple except blocks to handle different types of exceptions\n",
    "try:\n",
    "    num = int(input(\"Enter a number: \"))\n",
    "    result = 10 / num\n",
    "    my_list = [1, 2, 3]\n",
    "    print(my_list[5])\n",
    "except ZeroDivisionError:\n",
    "    print(\"Error: Division by zero is not allowed.\")\n",
    "except ValueError:\n",
    "    print(\"Error: Invalid input. Please enter a number.\")\n",
    "except IndexError:\n",
    "    print(\"Error: List index out of range.\")\n",
    "\n"
   ]
  },
  {
   "cell_type": "code",
   "execution_count": 55,
   "id": "b575320f",
   "metadata": {},
   "outputs": [
    {
     "name": "stdout",
     "output_type": "stream",
     "text": [
      "Artificial intelligence (AI) is the capability of computational systems to perform tasks typically associated with human intelligence, such as learning, reasoning, problem-solving, perception, and decision-making. It is a field of research in computer science that develops and studies methods and software that enable machines to perceive their environment and use learning and intelligence to take actions that maximize their chances of achieving defined goals.[1]\n",
      "\n",
      "High-profile applications of AI include advanced web search engines (e.g., Google Search); recommendation systems (used by YouTube, Amazon, and Netflix); virtual assistants (e.g., Google Assistant, Siri, and Alexa); autonomous vehicles (e.g., Waymo); generative and creative tools (e.g., language models and AI art); and superhuman play and analysis in strategy games (e.g., chess and Go). However, many AI applications are not perceived as AI: \"A lot of cutting edge AI has filtered into general applications, often without being called AI because once something becomes useful enough and common enough it's not labeled AI anymore.\"[2][3]\n",
      "\n",
      "Artificial intelligence was founded as an academic discipline in 1956,[6] and the field went through multiple cycles of optimism throughout its history,[7][8] followed by periods of disappointment and loss of funding, known as AI winters.[9][10] \n"
     ]
    }
   ],
   "source": [
    "# 13. How would you check if a file exists before attempting to read it in Python\n",
    "import os\n",
    "\n",
    "if os.path.exists(\"files/Ai.txt\"):\n",
    "    with open(\"files/Ai.txt\", \"r\") as f:\n",
    "        print(f.read())\n",
    "else:\n",
    "    print(\"File does not exist.\")\n"
   ]
  },
  {
   "cell_type": "code",
   "execution_count": 56,
   "id": "5a0b6857",
   "metadata": {},
   "outputs": [],
   "source": [
    "# 14. Write a program that uses the logging module to log both informational and error messages\n",
    "import logging\n",
    "logging.basicConfig(filename='app.log', level=logging.DEBUG,\n",
    "                    format='%(levelname)s:%(message)s')\n",
    "logging.info('This is an informational message.')\n",
    "try:\n",
    "    result = 10 / 0\n",
    "except ZeroDivisionError as e:\n",
    "    logging.error(f'Error occurred: {e}')\n"
   ]
  },
  {
   "cell_type": "code",
   "execution_count": 58,
   "id": "79f1b81f",
   "metadata": {},
   "outputs": [
    {
     "name": "stdout",
     "output_type": "stream",
     "text": [
      "The file is empty.\n"
     ]
    }
   ],
   "source": [
    "# 15. Write a Python program that prints the content of a file and handles the case when the file is empty\n",
    "file_path = \"files/a.txt\"\n",
    "\n",
    "try:\n",
    "    with open(file_path, 'r') as f:\n",
    "        content = f.read()\n",
    "        if content.strip() == \"\":\n",
    "            print(\"The file is empty.\")\n",
    "        else:\n",
    "            print(\"File content:\\n\", content)\n",
    "except FileNotFoundError:\n",
    "    print(\"File not found.\")\n"
   ]
  },
  {
   "cell_type": "code",
   "execution_count": 62,
   "id": "2b4a8784",
   "metadata": {},
   "outputs": [
    {
     "name": "stdout",
     "output_type": "stream",
     "text": [
      "ERROR: Could not find file C:\\Users\\aditi\\AppData\\Local\\Temp\\ipykernel_8260\\3772847437.py\n"
     ]
    },
    {
     "data": {
      "text/plain": [
       "[0,\n",
       " 1,\n",
       " 2,\n",
       " 3,\n",
       " 4,\n",
       " 5,\n",
       " 6,\n",
       " 7,\n",
       " 8,\n",
       " 9,\n",
       " 10,\n",
       " 11,\n",
       " 12,\n",
       " 13,\n",
       " 14,\n",
       " 15,\n",
       " 16,\n",
       " 17,\n",
       " 18,\n",
       " 19,\n",
       " 20,\n",
       " 21,\n",
       " 22,\n",
       " 23,\n",
       " 24,\n",
       " 25,\n",
       " 26,\n",
       " 27,\n",
       " 28,\n",
       " 29,\n",
       " 30,\n",
       " 31,\n",
       " 32,\n",
       " 33,\n",
       " 34,\n",
       " 35,\n",
       " 36,\n",
       " 37,\n",
       " 38,\n",
       " 39,\n",
       " 40,\n",
       " 41,\n",
       " 42,\n",
       " 43,\n",
       " 44,\n",
       " 45,\n",
       " 46,\n",
       " 47,\n",
       " 48,\n",
       " 49,\n",
       " 50,\n",
       " 51,\n",
       " 52,\n",
       " 53,\n",
       " 54,\n",
       " 55,\n",
       " 56,\n",
       " 57,\n",
       " 58,\n",
       " 59,\n",
       " 60,\n",
       " 61,\n",
       " 62,\n",
       " 63,\n",
       " 64,\n",
       " 65,\n",
       " 66,\n",
       " 67,\n",
       " 68,\n",
       " 69,\n",
       " 70,\n",
       " 71,\n",
       " 72,\n",
       " 73,\n",
       " 74,\n",
       " 75,\n",
       " 76,\n",
       " 77,\n",
       " 78,\n",
       " 79,\n",
       " 80,\n",
       " 81,\n",
       " 82,\n",
       " 83,\n",
       " 84,\n",
       " 85,\n",
       " 86,\n",
       " 87,\n",
       " 88,\n",
       " 89,\n",
       " 90,\n",
       " 91,\n",
       " 92,\n",
       " 93,\n",
       " 94,\n",
       " 95,\n",
       " 96,\n",
       " 97,\n",
       " 98,\n",
       " 99,\n",
       " 100,\n",
       " 101,\n",
       " 102,\n",
       " 103,\n",
       " 104,\n",
       " 105,\n",
       " 106,\n",
       " 107,\n",
       " 108,\n",
       " 109,\n",
       " 110,\n",
       " 111,\n",
       " 112,\n",
       " 113,\n",
       " 114,\n",
       " 115,\n",
       " 116,\n",
       " 117,\n",
       " 118,\n",
       " 119,\n",
       " 120,\n",
       " 121,\n",
       " 122,\n",
       " 123,\n",
       " 124,\n",
       " 125,\n",
       " 126,\n",
       " 127,\n",
       " 128,\n",
       " 129,\n",
       " 130,\n",
       " 131,\n",
       " 132,\n",
       " 133,\n",
       " 134,\n",
       " 135,\n",
       " 136,\n",
       " 137,\n",
       " 138,\n",
       " 139,\n",
       " 140,\n",
       " 141,\n",
       " 142,\n",
       " 143,\n",
       " 144,\n",
       " 145,\n",
       " 146,\n",
       " 147,\n",
       " 148,\n",
       " 149,\n",
       " 150,\n",
       " 151,\n",
       " 152,\n",
       " 153,\n",
       " 154,\n",
       " 155,\n",
       " 156,\n",
       " 157,\n",
       " 158,\n",
       " 159,\n",
       " 160,\n",
       " 161,\n",
       " 162,\n",
       " 163,\n",
       " 164,\n",
       " 165,\n",
       " 166,\n",
       " 167,\n",
       " 168,\n",
       " 169,\n",
       " 170,\n",
       " 171,\n",
       " 172,\n",
       " 173,\n",
       " 174,\n",
       " 175,\n",
       " 176,\n",
       " 177,\n",
       " 178,\n",
       " 179,\n",
       " 180,\n",
       " 181,\n",
       " 182,\n",
       " 183,\n",
       " 184,\n",
       " 185,\n",
       " 186,\n",
       " 187,\n",
       " 188,\n",
       " 189,\n",
       " 190,\n",
       " 191,\n",
       " 192,\n",
       " 193,\n",
       " 194,\n",
       " 195,\n",
       " 196,\n",
       " 197,\n",
       " 198,\n",
       " 199,\n",
       " 200,\n",
       " 201,\n",
       " 202,\n",
       " 203,\n",
       " 204,\n",
       " 205,\n",
       " 206,\n",
       " 207,\n",
       " 208,\n",
       " 209,\n",
       " 210,\n",
       " 211,\n",
       " 212,\n",
       " 213,\n",
       " 214,\n",
       " 215,\n",
       " 216,\n",
       " 217,\n",
       " 218,\n",
       " 219,\n",
       " 220,\n",
       " 221,\n",
       " 222,\n",
       " 223,\n",
       " 224,\n",
       " 225,\n",
       " 226,\n",
       " 227,\n",
       " 228,\n",
       " 229,\n",
       " 230,\n",
       " 231,\n",
       " 232,\n",
       " 233,\n",
       " 234,\n",
       " 235,\n",
       " 236,\n",
       " 237,\n",
       " 238,\n",
       " 239,\n",
       " 240,\n",
       " 241,\n",
       " 242,\n",
       " 243,\n",
       " 244,\n",
       " 245,\n",
       " 246,\n",
       " 247,\n",
       " 248,\n",
       " 249,\n",
       " 250,\n",
       " 251,\n",
       " 252,\n",
       " 253,\n",
       " 254,\n",
       " 255,\n",
       " 256,\n",
       " 257,\n",
       " 258,\n",
       " 259,\n",
       " 260,\n",
       " 261,\n",
       " 262,\n",
       " 263,\n",
       " 264,\n",
       " 265,\n",
       " 266,\n",
       " 267,\n",
       " 268,\n",
       " 269,\n",
       " 270,\n",
       " 271,\n",
       " 272,\n",
       " 273,\n",
       " 274,\n",
       " 275,\n",
       " 276,\n",
       " 277,\n",
       " 278,\n",
       " 279,\n",
       " 280,\n",
       " 281,\n",
       " 282,\n",
       " 283,\n",
       " 284,\n",
       " 285,\n",
       " 286,\n",
       " 287,\n",
       " 288,\n",
       " 289,\n",
       " 290,\n",
       " 291,\n",
       " 292,\n",
       " 293,\n",
       " 294,\n",
       " 295,\n",
       " 296,\n",
       " 297,\n",
       " 298,\n",
       " 299,\n",
       " 300,\n",
       " 301,\n",
       " 302,\n",
       " 303,\n",
       " 304,\n",
       " 305,\n",
       " 306,\n",
       " 307,\n",
       " 308,\n",
       " 309,\n",
       " 310,\n",
       " 311,\n",
       " 312,\n",
       " 313,\n",
       " 314,\n",
       " 315,\n",
       " 316,\n",
       " 317,\n",
       " 318,\n",
       " 319,\n",
       " 320,\n",
       " 321,\n",
       " 322,\n",
       " 323,\n",
       " 324,\n",
       " 325,\n",
       " 326,\n",
       " 327,\n",
       " 328,\n",
       " 329,\n",
       " 330,\n",
       " 331,\n",
       " 332,\n",
       " 333,\n",
       " 334,\n",
       " 335,\n",
       " 336,\n",
       " 337,\n",
       " 338,\n",
       " 339,\n",
       " 340,\n",
       " 341,\n",
       " 342,\n",
       " 343,\n",
       " 344,\n",
       " 345,\n",
       " 346,\n",
       " 347,\n",
       " 348,\n",
       " 349,\n",
       " 350,\n",
       " 351,\n",
       " 352,\n",
       " 353,\n",
       " 354,\n",
       " 355,\n",
       " 356,\n",
       " 357,\n",
       " 358,\n",
       " 359,\n",
       " 360,\n",
       " 361,\n",
       " 362,\n",
       " 363,\n",
       " 364,\n",
       " 365,\n",
       " 366,\n",
       " 367,\n",
       " 368,\n",
       " 369,\n",
       " 370,\n",
       " 371,\n",
       " 372,\n",
       " 373,\n",
       " 374,\n",
       " 375,\n",
       " 376,\n",
       " 377,\n",
       " 378,\n",
       " 379,\n",
       " 380,\n",
       " 381,\n",
       " 382,\n",
       " 383,\n",
       " 384,\n",
       " 385,\n",
       " 386,\n",
       " 387,\n",
       " 388,\n",
       " 389,\n",
       " 390,\n",
       " 391,\n",
       " 392,\n",
       " 393,\n",
       " 394,\n",
       " 395,\n",
       " 396,\n",
       " 397,\n",
       " 398,\n",
       " 399,\n",
       " 400,\n",
       " 401,\n",
       " 402,\n",
       " 403,\n",
       " 404,\n",
       " 405,\n",
       " 406,\n",
       " 407,\n",
       " 408,\n",
       " 409,\n",
       " 410,\n",
       " 411,\n",
       " 412,\n",
       " 413,\n",
       " 414,\n",
       " 415,\n",
       " 416,\n",
       " 417,\n",
       " 418,\n",
       " 419,\n",
       " 420,\n",
       " 421,\n",
       " 422,\n",
       " 423,\n",
       " 424,\n",
       " 425,\n",
       " 426,\n",
       " 427,\n",
       " 428,\n",
       " 429,\n",
       " 430,\n",
       " 431,\n",
       " 432,\n",
       " 433,\n",
       " 434,\n",
       " 435,\n",
       " 436,\n",
       " 437,\n",
       " 438,\n",
       " 439,\n",
       " 440,\n",
       " 441,\n",
       " 442,\n",
       " 443,\n",
       " 444,\n",
       " 445,\n",
       " 446,\n",
       " 447,\n",
       " 448,\n",
       " 449,\n",
       " 450,\n",
       " 451,\n",
       " 452,\n",
       " 453,\n",
       " 454,\n",
       " 455,\n",
       " 456,\n",
       " 457,\n",
       " 458,\n",
       " 459,\n",
       " 460,\n",
       " 461,\n",
       " 462,\n",
       " 463,\n",
       " 464,\n",
       " 465,\n",
       " 466,\n",
       " 467,\n",
       " 468,\n",
       " 469,\n",
       " 470,\n",
       " 471,\n",
       " 472,\n",
       " 473,\n",
       " 474,\n",
       " 475,\n",
       " 476,\n",
       " 477,\n",
       " 478,\n",
       " 479,\n",
       " 480,\n",
       " 481,\n",
       " 482,\n",
       " 483,\n",
       " 484,\n",
       " 485,\n",
       " 486,\n",
       " 487,\n",
       " 488,\n",
       " 489,\n",
       " 490,\n",
       " 491,\n",
       " 492,\n",
       " 493,\n",
       " 494,\n",
       " 495,\n",
       " 496,\n",
       " 497,\n",
       " 498,\n",
       " 499,\n",
       " 500,\n",
       " 501,\n",
       " 502,\n",
       " 503,\n",
       " 504,\n",
       " 505,\n",
       " 506,\n",
       " 507,\n",
       " 508,\n",
       " 509,\n",
       " 510,\n",
       " 511,\n",
       " 512,\n",
       " 513,\n",
       " 514,\n",
       " 515,\n",
       " 516,\n",
       " 517,\n",
       " 518,\n",
       " 519,\n",
       " 520,\n",
       " 521,\n",
       " 522,\n",
       " 523,\n",
       " 524,\n",
       " 525,\n",
       " 526,\n",
       " 527,\n",
       " 528,\n",
       " 529,\n",
       " 530,\n",
       " 531,\n",
       " 532,\n",
       " 533,\n",
       " 534,\n",
       " 535,\n",
       " 536,\n",
       " 537,\n",
       " 538,\n",
       " 539,\n",
       " 540,\n",
       " 541,\n",
       " 542,\n",
       " 543,\n",
       " 544,\n",
       " 545,\n",
       " 546,\n",
       " 547,\n",
       " 548,\n",
       " 549,\n",
       " 550,\n",
       " 551,\n",
       " 552,\n",
       " 553,\n",
       " 554,\n",
       " 555,\n",
       " 556,\n",
       " 557,\n",
       " 558,\n",
       " 559,\n",
       " 560,\n",
       " 561,\n",
       " 562,\n",
       " 563,\n",
       " 564,\n",
       " 565,\n",
       " 566,\n",
       " 567,\n",
       " 568,\n",
       " 569,\n",
       " 570,\n",
       " 571,\n",
       " 572,\n",
       " 573,\n",
       " 574,\n",
       " 575,\n",
       " 576,\n",
       " 577,\n",
       " 578,\n",
       " 579,\n",
       " 580,\n",
       " 581,\n",
       " 582,\n",
       " 583,\n",
       " 584,\n",
       " 585,\n",
       " 586,\n",
       " 587,\n",
       " 588,\n",
       " 589,\n",
       " 590,\n",
       " 591,\n",
       " 592,\n",
       " 593,\n",
       " 594,\n",
       " 595,\n",
       " 596,\n",
       " 597,\n",
       " 598,\n",
       " 599,\n",
       " 600,\n",
       " 601,\n",
       " 602,\n",
       " 603,\n",
       " 604,\n",
       " 605,\n",
       " 606,\n",
       " 607,\n",
       " 608,\n",
       " 609,\n",
       " 610,\n",
       " 611,\n",
       " 612,\n",
       " 613,\n",
       " 614,\n",
       " 615,\n",
       " 616,\n",
       " 617,\n",
       " 618,\n",
       " 619,\n",
       " 620,\n",
       " 621,\n",
       " 622,\n",
       " 623,\n",
       " 624,\n",
       " 625,\n",
       " 626,\n",
       " 627,\n",
       " 628,\n",
       " 629,\n",
       " 630,\n",
       " 631,\n",
       " 632,\n",
       " 633,\n",
       " 634,\n",
       " 635,\n",
       " 636,\n",
       " 637,\n",
       " 638,\n",
       " 639,\n",
       " 640,\n",
       " 641,\n",
       " 642,\n",
       " 643,\n",
       " 644,\n",
       " 645,\n",
       " 646,\n",
       " 647,\n",
       " 648,\n",
       " 649,\n",
       " 650,\n",
       " 651,\n",
       " 652,\n",
       " 653,\n",
       " 654,\n",
       " 655,\n",
       " 656,\n",
       " 657,\n",
       " 658,\n",
       " 659,\n",
       " 660,\n",
       " 661,\n",
       " 662,\n",
       " 663,\n",
       " 664,\n",
       " 665,\n",
       " 666,\n",
       " 667,\n",
       " 668,\n",
       " 669,\n",
       " 670,\n",
       " 671,\n",
       " 672,\n",
       " 673,\n",
       " 674,\n",
       " 675,\n",
       " 676,\n",
       " 677,\n",
       " 678,\n",
       " 679,\n",
       " 680,\n",
       " 681,\n",
       " 682,\n",
       " 683,\n",
       " 684,\n",
       " 685,\n",
       " 686,\n",
       " 687,\n",
       " 688,\n",
       " 689,\n",
       " 690,\n",
       " 691,\n",
       " 692,\n",
       " 693,\n",
       " 694,\n",
       " 695,\n",
       " 696,\n",
       " 697,\n",
       " 698,\n",
       " 699,\n",
       " 700,\n",
       " 701,\n",
       " 702,\n",
       " 703,\n",
       " 704,\n",
       " 705,\n",
       " 706,\n",
       " 707,\n",
       " 708,\n",
       " 709,\n",
       " 710,\n",
       " 711,\n",
       " 712,\n",
       " 713,\n",
       " 714,\n",
       " 715,\n",
       " 716,\n",
       " 717,\n",
       " 718,\n",
       " 719,\n",
       " 720,\n",
       " 721,\n",
       " 722,\n",
       " 723,\n",
       " 724,\n",
       " 725,\n",
       " 726,\n",
       " 727,\n",
       " 728,\n",
       " 729,\n",
       " 730,\n",
       " 731,\n",
       " 732,\n",
       " 733,\n",
       " 734,\n",
       " 735,\n",
       " 736,\n",
       " 737,\n",
       " 738,\n",
       " 739,\n",
       " 740,\n",
       " 741,\n",
       " 742,\n",
       " 743,\n",
       " 744,\n",
       " 745,\n",
       " 746,\n",
       " 747,\n",
       " 748,\n",
       " 749,\n",
       " 750,\n",
       " 751,\n",
       " 752,\n",
       " 753,\n",
       " 754,\n",
       " 755,\n",
       " 756,\n",
       " 757,\n",
       " 758,\n",
       " 759,\n",
       " 760,\n",
       " 761,\n",
       " 762,\n",
       " 763,\n",
       " 764,\n",
       " 765,\n",
       " 766,\n",
       " 767,\n",
       " 768,\n",
       " 769,\n",
       " 770,\n",
       " 771,\n",
       " 772,\n",
       " 773,\n",
       " 774,\n",
       " 775,\n",
       " 776,\n",
       " 777,\n",
       " 778,\n",
       " 779,\n",
       " 780,\n",
       " 781,\n",
       " 782,\n",
       " 783,\n",
       " 784,\n",
       " 785,\n",
       " 786,\n",
       " 787,\n",
       " 788,\n",
       " 789,\n",
       " 790,\n",
       " 791,\n",
       " 792,\n",
       " 793,\n",
       " 794,\n",
       " 795,\n",
       " 796,\n",
       " 797,\n",
       " 798,\n",
       " 799,\n",
       " 800,\n",
       " 801,\n",
       " 802,\n",
       " 803,\n",
       " 804,\n",
       " 805,\n",
       " 806,\n",
       " 807,\n",
       " 808,\n",
       " 809,\n",
       " 810,\n",
       " 811,\n",
       " 812,\n",
       " 813,\n",
       " 814,\n",
       " 815,\n",
       " 816,\n",
       " 817,\n",
       " 818,\n",
       " 819,\n",
       " 820,\n",
       " 821,\n",
       " 822,\n",
       " 823,\n",
       " 824,\n",
       " 825,\n",
       " 826,\n",
       " 827,\n",
       " 828,\n",
       " 829,\n",
       " 830,\n",
       " 831,\n",
       " 832,\n",
       " 833,\n",
       " 834,\n",
       " 835,\n",
       " 836,\n",
       " 837,\n",
       " 838,\n",
       " 839,\n",
       " 840,\n",
       " 841,\n",
       " 842,\n",
       " 843,\n",
       " 844,\n",
       " 845,\n",
       " 846,\n",
       " 847,\n",
       " 848,\n",
       " 849,\n",
       " 850,\n",
       " 851,\n",
       " 852,\n",
       " 853,\n",
       " 854,\n",
       " 855,\n",
       " 856,\n",
       " 857,\n",
       " 858,\n",
       " 859,\n",
       " 860,\n",
       " 861,\n",
       " 862,\n",
       " 863,\n",
       " 864,\n",
       " 865,\n",
       " 866,\n",
       " 867,\n",
       " 868,\n",
       " 869,\n",
       " 870,\n",
       " 871,\n",
       " 872,\n",
       " 873,\n",
       " 874,\n",
       " 875,\n",
       " 876,\n",
       " 877,\n",
       " 878,\n",
       " 879,\n",
       " 880,\n",
       " 881,\n",
       " 882,\n",
       " 883,\n",
       " 884,\n",
       " 885,\n",
       " 886,\n",
       " 887,\n",
       " 888,\n",
       " 889,\n",
       " 890,\n",
       " 891,\n",
       " 892,\n",
       " 893,\n",
       " 894,\n",
       " 895,\n",
       " 896,\n",
       " 897,\n",
       " 898,\n",
       " 899,\n",
       " 900,\n",
       " 901,\n",
       " 902,\n",
       " 903,\n",
       " 904,\n",
       " 905,\n",
       " 906,\n",
       " 907,\n",
       " 908,\n",
       " 909,\n",
       " 910,\n",
       " 911,\n",
       " 912,\n",
       " 913,\n",
       " 914,\n",
       " 915,\n",
       " 916,\n",
       " 917,\n",
       " 918,\n",
       " 919,\n",
       " 920,\n",
       " 921,\n",
       " 922,\n",
       " 923,\n",
       " 924,\n",
       " 925,\n",
       " 926,\n",
       " 927,\n",
       " 928,\n",
       " 929,\n",
       " 930,\n",
       " 931,\n",
       " 932,\n",
       " 933,\n",
       " 934,\n",
       " 935,\n",
       " 936,\n",
       " 937,\n",
       " 938,\n",
       " 939,\n",
       " 940,\n",
       " 941,\n",
       " 942,\n",
       " 943,\n",
       " 944,\n",
       " 945,\n",
       " 946,\n",
       " 947,\n",
       " 948,\n",
       " 949,\n",
       " 950,\n",
       " 951,\n",
       " 952,\n",
       " 953,\n",
       " 954,\n",
       " 955,\n",
       " 956,\n",
       " 957,\n",
       " 958,\n",
       " 959,\n",
       " 960,\n",
       " 961,\n",
       " 962,\n",
       " 963,\n",
       " 964,\n",
       " 965,\n",
       " 966,\n",
       " 967,\n",
       " 968,\n",
       " 969,\n",
       " 970,\n",
       " 971,\n",
       " 972,\n",
       " 973,\n",
       " 974,\n",
       " 975,\n",
       " 976,\n",
       " 977,\n",
       " 978,\n",
       " 979,\n",
       " 980,\n",
       " 981,\n",
       " 982,\n",
       " 983,\n",
       " 984,\n",
       " 985,\n",
       " 986,\n",
       " 987,\n",
       " 988,\n",
       " 989,\n",
       " 990,\n",
       " 991,\n",
       " 992,\n",
       " 993,\n",
       " 994,\n",
       " 995,\n",
       " 996,\n",
       " 997,\n",
       " 998,\n",
       " 999,\n",
       " ...]"
      ]
     },
     "execution_count": 62,
     "metadata": {},
     "output_type": "execute_result"
    }
   ],
   "source": [
    "# 16. Demonstrate how to use memory profiling to check the memory usage of a small program\n",
    "from memory_profiler import profile\n",
    "\n",
    "@profile\n",
    "def create_list():\n",
    "    a = [i for i in range(1000000)]\n",
    "    return a\n",
    "create_list()\n"
   ]
  },
  {
   "cell_type": "code",
   "execution_count": 63,
   "id": "58006c31",
   "metadata": {},
   "outputs": [
    {
     "name": "stdout",
     "output_type": "stream",
     "text": [
      "Numbers written to file successfully.\n"
     ]
    }
   ],
   "source": [
    "# 17. Write a Python program to create and write a list of numbers to a file, one number per line\n",
    "\n",
    "numbers = [1, 2, 3, 4, 5, 6, 7, 8, 9, 10]\n",
    "\n",
    "with open(\"numbers.txt\", \"w\") as file:\n",
    "\n",
    "    for number in numbers:\n",
    "        file.write(str(number) + \"\\n\")\n",
    "\n",
    "print(\"Numbers written to file successfully.\")\n"
   ]
  },
  {
   "cell_type": "code",
   "execution_count": 64,
   "id": "2985af72",
   "metadata": {},
   "outputs": [],
   "source": [
    "# 18. How would you implement a basic logging setup that logs to a file with rotation after 1MB\n",
    "import logging\n",
    "from logging.handlers import RotatingFileHandler\n",
    "\n",
    "logger = logging.getLogger(\"my_logger\")\n",
    "logger.setLevel(logging.INFO)\n",
    "\n",
    "handler = RotatingFileHandler(\"my_log.log\", maxBytes=1 * 1024 * 1024, backupCount=3)\n",
    "\n",
    "formatter = logging.Formatter('%(asctime)s - %(levelname)s - %(message)s')\n",
    "handler.setFormatter(formatter)\n",
    "\n",
    "logger.addHandler(handler)\n",
    "\n",
    "logger.info(\"This is an informational message.\")\n",
    "logger.error(\"This is an error message.\")\n"
   ]
  },
  {
   "cell_type": "code",
   "execution_count": 65,
   "id": "dae694a2",
   "metadata": {},
   "outputs": [
    {
     "name": "stdout",
     "output_type": "stream",
     "text": [
      "IndexError occurred: list index out of range\n"
     ]
    }
   ],
   "source": [
    "# 19. Write a program that handles both IndexError and KeyError using a try-except block\n",
    "my_list = [10, 20, 30]\n",
    "my_dict = {\"name\": \"Aditya\", \"age\": 24}\n",
    "\n",
    "try:\n",
    "    print(\"List item:\", my_list[5])\n",
    "    print(\"Dictionary value:\", my_dict[\"city\"])\n",
    "\n",
    "except IndexError as ie:\n",
    "    print(\"IndexError occurred:\", ie)\n",
    "\n",
    "except KeyError as ke:\n",
    "    print(\"KeyError occurred:\", ke)\n"
   ]
  },
  {
   "cell_type": "code",
   "execution_count": 66,
   "id": "4023f575",
   "metadata": {},
   "outputs": [
    {
     "name": "stdout",
     "output_type": "stream",
     "text": [
      "Artificial intelligence (AI) is the capability of computational systems to perform tasks typically associated with human intelligence, such as learning, reasoning, problem-solving, perception, and decision-making. It is a field of research in computer science that develops and studies methods and software that enable machines to perceive their environment and use learning and intelligence to take actions that maximize their chances of achieving defined goals.[1]\n",
      "\n",
      "High-profile applications of AI include advanced web search engines (e.g., Google Search); recommendation systems (used by YouTube, Amazon, and Netflix); virtual assistants (e.g., Google Assistant, Siri, and Alexa); autonomous vehicles (e.g., Waymo); generative and creative tools (e.g., language models and AI art); and superhuman play and analysis in strategy games (e.g., chess and Go). However, many AI applications are not perceived as AI: \"A lot of cutting edge AI has filtered into general applications, often without being called AI because once something becomes useful enough and common enough it's not labeled AI anymore.\"[2][3]\n",
      "\n",
      "Artificial intelligence was founded as an academic discipline in 1956,[6] and the field went through multiple cycles of optimism throughout its history,[7][8] followed by periods of disappointment and loss of funding, known as AI winters.[9][10] \n"
     ]
    }
   ],
   "source": [
    "# 20. How would you open a file and read its contents using a context manager in Python\n",
    "with open(\"files/Ai.txt\", \"r\") as f:\n",
    "    content = f.read()\n",
    "    print(content)\n"
   ]
  },
  {
   "cell_type": "code",
   "execution_count": 69,
   "id": "d880df44",
   "metadata": {},
   "outputs": [
    {
     "name": "stdout",
     "output_type": "stream",
     "text": [
      "Enter the word to count: AI\n",
      "The word 'AI' occurs 7 times in the file.\n"
     ]
    }
   ],
   "source": [
    "# 21. Write a Python program that reads a file and prints the number of occurrences of a specific word\n",
    "search_word = input(\"Enter the word to count: \")\n",
    "\n",
    "try:\n",
    "    with open('files/Ai.txt', 'r') as file:\n",
    "        content = file.read()\n",
    "        words = content.split()\n",
    "        count = words.count(search_word)\n",
    "        print(f\"The word '{search_word}' occurs {count} times in the file.\")\n",
    "except FileNotFoundError:\n",
    "    print(\"Error: File not found.\")\n",
    "except Exception as e:\n",
    "    print(\"An error occurred:\", e)"
   ]
  },
  {
   "cell_type": "code",
   "execution_count": 70,
   "id": "7b445b3b",
   "metadata": {},
   "outputs": [
    {
     "name": "stdout",
     "output_type": "stream",
     "text": [
      "File content:\n",
      " Artificial intelligence (AI) is the capability of computational systems to perform tasks typically associated with human intelligence, such as learning, reasoning, problem-solving, perception, and decision-making. It is a field of research in computer science that develops and studies methods and software that enable machines to perceive their environment and use learning and intelligence to take actions that maximize their chances of achieving defined goals.[1]\n",
      "\n",
      "High-profile applications of AI include advanced web search engines (e.g., Google Search); recommendation systems (used by YouTube, Amazon, and Netflix); virtual assistants (e.g., Google Assistant, Siri, and Alexa); autonomous vehicles (e.g., Waymo); generative and creative tools (e.g., language models and AI art); and superhuman play and analysis in strategy games (e.g., chess and Go). However, many AI applications are not perceived as AI: \"A lot of cutting edge AI has filtered into general applications, often without being called AI because once something becomes useful enough and common enough it's not labeled AI anymore.\"[2][3]\n",
      "\n",
      "Artificial intelligence was founded as an academic discipline in 1956,[6] and the field went through multiple cycles of optimism throughout its history,[7][8] followed by periods of disappointment and loss of funding, known as AI winters.[9][10] \n"
     ]
    }
   ],
   "source": [
    "# 22. How can you check if a file is empty before attempting to read its contents\n",
    "try:\n",
    "    with open('files/Ai.txt', 'r') as file:\n",
    "        content = file.read()\n",
    "        if not content:\n",
    "            print(\"The file is empty.\")\n",
    "        else:\n",
    "            print(\"File content:\\n\", content)\n",
    "except FileNotFoundError:\n",
    "    print(\"File does not exist.\")"
   ]
  },
  {
   "cell_type": "code",
   "execution_count": 71,
   "id": "c733fbaa",
   "metadata": {},
   "outputs": [
    {
     "name": "stdout",
     "output_type": "stream",
     "text": [
      "Error: The file does not exist.\n"
     ]
    }
   ],
   "source": [
    "# 23. Write a Python program that writes to a log file when an error occurs during file handling\n",
    "import logging\n",
    "logging.basicConfig(\n",
    "    filename='file_errors.log',\n",
    "    level=logging.ERROR,\n",
    "    format='%(asctime)s - %(levelname)s - %(message)s'\n",
    ")\n",
    "\n",
    "filename = 'file.txt'\n",
    "\n",
    "try:\n",
    "    with open(filename, 'r') as file:\n",
    "        content = file.read()\n",
    "        print(\"File content:\\n\", content)\n",
    "except FileNotFoundError as e:\n",
    "    logging.error(f\"File not found: {e}\")\n",
    "    print(\"Error: The file does not exist.\")\n",
    "except Exception as e:\n",
    "    logging.error(f\"An unexpected error occurred: {e}\")\n",
    "    print(\"An unexpected error occurred. Please check the log file.\")\n"
   ]
  },
  {
   "cell_type": "code",
   "execution_count": null,
   "id": "88e3e94c",
   "metadata": {},
   "outputs": [],
   "source": []
  }
 ],
 "metadata": {
  "kernelspec": {
   "display_name": "Python 3 (ipykernel)",
   "language": "python",
   "name": "python3"
  },
  "language_info": {
   "codemirror_mode": {
    "name": "ipython",
    "version": 3
   },
   "file_extension": ".py",
   "mimetype": "text/x-python",
   "name": "python",
   "nbconvert_exporter": "python",
   "pygments_lexer": "ipython3",
   "version": "3.9.13"
  }
 },
 "nbformat": 4,
 "nbformat_minor": 5
}
