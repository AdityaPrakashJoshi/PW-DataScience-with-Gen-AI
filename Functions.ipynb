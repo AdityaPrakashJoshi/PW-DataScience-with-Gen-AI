{
 "cells": [
  {
   "cell_type": "markdown",
   "id": "2379ef99",
   "metadata": {},
   "source": [
    "# Theory Questions"
   ]
  },
  {
   "cell_type": "code",
   "execution_count": 1,
   "id": "4dbbade1",
   "metadata": {},
   "outputs": [
    {
     "name": "stdout",
     "output_type": "stream",
     "text": [
      "5\n"
     ]
    }
   ],
   "source": [
    "# 1. What is the difference between a function and a method in Python?\n",
    "\"\"\"\n",
    "Method is defined inside a class and it operates on instance of class. Function is independent block of code which is defined\n",
    "outside of a class.\n",
    "\"\"\"\n",
    "# Example:\n",
    "def add(a, b):\n",
    "    return a + b\n",
    "\n",
    "print(add(2, 3))\n"
   ]
  },
  {
   "cell_type": "code",
   "execution_count": 2,
   "id": "5669da65",
   "metadata": {},
   "outputs": [
    {
     "name": "stdout",
     "output_type": "stream",
     "text": [
      "5\n"
     ]
    }
   ],
   "source": [
    "class Calculator:\n",
    "    def add(self, a, b):\n",
    "        return a + b\n",
    "\n",
    "calc = Calculator()\n",
    "print(calc.add(2, 3))\n"
   ]
  },
  {
   "cell_type": "code",
   "execution_count": 3,
   "id": "0e20a720",
   "metadata": {},
   "outputs": [
    {
     "name": "stdout",
     "output_type": "stream",
     "text": [
      "Good Morning, Aditya!\n"
     ]
    },
    {
     "data": {
      "text/plain": [
       "'in the above case name and message are the parameters and Aditya and Good Morning are arguments'"
      ]
     },
     "execution_count": 3,
     "metadata": {},
     "output_type": "execute_result"
    }
   ],
   "source": [
    "# 2. Explain the concept of function arguments and parameters in Python.\n",
    "\"\"\"\n",
    "parameters are the variables which are passed when function is defined and arguments are the actual values passed when the\n",
    "function is called.\n",
    "\"\"\"\n",
    "# Example\n",
    "def greet(name, message):\n",
    "    return f\"{message}, {name}!\"\n",
    "\n",
    "print(greet(\"Aditya\", \"Good Morning\"))\n",
    "\"\"\"in the above case name and message are the parameters and Aditya and Good Morning are arguments\"\"\""
   ]
  },
  {
   "cell_type": "code",
   "execution_count": 4,
   "id": "6e41e2b3",
   "metadata": {},
   "outputs": [
    {
     "name": "stdout",
     "output_type": "stream",
     "text": [
      "5\n"
     ]
    }
   ],
   "source": [
    "# 3. What are the different ways to define and call a function in Python?\n",
    "\n",
    "\"\"\"\n",
    "In Python, functions can be defined using def or lambda, and can be called by their name followed by parentheses.\n",
    "\"\"\"\n",
    "\n",
    "# Example\n",
    "def add(a, b):\n",
    "    return a + b\n",
    "print(add(2, 3))"
   ]
  },
  {
   "cell_type": "code",
   "execution_count": 5,
   "id": "6d05c19f",
   "metadata": {},
   "outputs": [
    {
     "name": "stdout",
     "output_type": "stream",
     "text": [
      "20\n"
     ]
    }
   ],
   "source": [
    "multiply = lambda x, y: x * y\n",
    "print(multiply(4, 5))\n"
   ]
  },
  {
   "cell_type": "code",
   "execution_count": 6,
   "id": "fb585de0",
   "metadata": {},
   "outputs": [
    {
     "name": "stdout",
     "output_type": "stream",
     "text": [
      "5\n"
     ]
    }
   ],
   "source": [
    "# 4.  What is the purpose of the `return` statement in a Python function?\n",
    "\"\"\"\n",
    "The return statement in Python is used when you want your function to give back a result.\n",
    "\"\"\"\n",
    "# Example \n",
    "def add(a, b):\n",
    "    return a + b\n",
    "print(add(2, 3))"
   ]
  },
  {
   "cell_type": "code",
   "execution_count": 7,
   "id": "fa0d48f4",
   "metadata": {},
   "outputs": [],
   "source": [
    "# In the above case 5 is being returned by return function when we call add()"
   ]
  },
  {
   "cell_type": "code",
   "execution_count": 8,
   "id": "68ab22d7",
   "metadata": {},
   "outputs": [
    {
     "name": "stdout",
     "output_type": "stream",
     "text": [
      "1\n",
      "2\n",
      "3\n"
     ]
    }
   ],
   "source": [
    "# 5. What are iterators in Python and how do they differ from iterables?\n",
    "\"\"\"\n",
    "In Python, iterables are things like lists or strings that you can go through one by one using a loop.\n",
    "Iterators are tools that help you go through those items one at a time using the next() function\n",
    "\"\"\"\n",
    "\n",
    "iterable = [1, 2, 3]\n",
    "iterator = iter(iterable)\n",
    "\n",
    "print(next(iterator))\n",
    "print(next(iterator))\n",
    "print(next(iterator))\n"
   ]
  },
  {
   "cell_type": "code",
   "execution_count": 10,
   "id": "893a2fe6",
   "metadata": {},
   "outputs": [
    {
     "name": "stdout",
     "output_type": "stream",
     "text": [
      "1\n",
      "2\n",
      "3\n"
     ]
    }
   ],
   "source": [
    "# 6. Explain the concept of generators in Python and how they are defined.\n",
    "\"\"\"\n",
    "Generators in Python are special functions that return values one at a time using the yield keyword instead of returning them\n",
    "all at once\n",
    "\"\"\"\n",
    "# Example\n",
    "def count_n(n):\n",
    "    i = 1 \n",
    "    while i <= n:\n",
    "        yield i \n",
    "        i += 1\n",
    "        \n",
    "gen = count_n(3)\n",
    "print(next(gen))\n",
    "print(next(gen))\n",
    "print(next(gen))"
   ]
  },
  {
   "cell_type": "code",
   "execution_count": 11,
   "id": "6ba73785",
   "metadata": {},
   "outputs": [
    {
     "name": "stdout",
     "output_type": "stream",
     "text": [
      "1\n",
      "2\n",
      "3\n",
      "4\n",
      "5\n"
     ]
    }
   ],
   "source": [
    "# 7. What are the advantages of using generators over regular functions?\n",
    "\"\"\"\n",
    "Advantages of using generators over regular functions:\n",
    "    - It is memory efficient.\n",
    "    - It produces values only when needed.\n",
    "    - It generate item one at a time hence it is good for large data\n",
    "\"\"\"\n",
    "\n",
    "def get_numbers_list(n):\n",
    "    result = []\n",
    "    for i in range(1, n+1):\n",
    "        result.append(i)\n",
    "    return result\n",
    "\n",
    "numbers = get_numbers_list(5)\n",
    "for num in numbers:\n",
    "    print(num)\n"
   ]
  },
  {
   "cell_type": "code",
   "execution_count": 13,
   "id": "311a5761",
   "metadata": {},
   "outputs": [
    {
     "name": "stdout",
     "output_type": "stream",
     "text": [
      "1\n",
      "2\n",
      "3\n",
      "4\n",
      "5\n"
     ]
    }
   ],
   "source": [
    "def get_numbers_gen(n):\n",
    "    for i in range(1, n + 1):\n",
    "        yield i\n",
    "\n",
    "gen = get_numbers_gen(5)\n",
    "print(next(gen))\n",
    "print(next(gen))\n",
    "print(next(gen))\n",
    "print(next(gen))\n",
    "print(next(gen))\n"
   ]
  },
  {
   "cell_type": "code",
   "execution_count": 14,
   "id": "9e9cd173",
   "metadata": {},
   "outputs": [
    {
     "name": "stdout",
     "output_type": "stream",
     "text": [
      "8\n"
     ]
    }
   ],
   "source": [
    "# 8. What is a lambda function in Python and when is it typically used?\n",
    "\"\"\"\n",
    "A lambda function is anonymous function written using the lambda keyword.It is used for simple tasks where defining\n",
    "a full function is unnecessary.\n",
    "\"\"\"\n",
    "add = lambda a, b: a + b\n",
    "print(add(3, 5))"
   ]
  },
  {
   "cell_type": "code",
   "execution_count": 15,
   "id": "167d7163",
   "metadata": {},
   "outputs": [
    {
     "name": "stdout",
     "output_type": "stream",
     "text": [
      "[1, 4, 9, 16]\n"
     ]
    }
   ],
   "source": [
    "# 9. Explain the purpose and usage of the `map()` function in Python.\n",
    "\"\"\"\n",
    "It is used to apply function to each item in an iterable and return a new map object.\n",
    "\"\"\"\n",
    "# Example\n",
    "nums = [1, 2, 3, 4]\n",
    "squares = list(map(lambda x: x * x, nums))\n",
    "print(squares)\n"
   ]
  },
  {
   "cell_type": "code",
   "execution_count": 16,
   "id": "aee0d419",
   "metadata": {},
   "outputs": [
    {
     "name": "stdout",
     "output_type": "stream",
     "text": [
      "[2, 4, 6, 8, 10]\n",
      "[2, 4]\n",
      "15\n"
     ]
    }
   ],
   "source": [
    "# 10. What is the difference between `map()`, `reduce()`, and `filter()` functions in Python?\n",
    "\"\"\"\n",
    "map() applies a function to each item in an iterable and returns a new iterable.\n",
    "\n",
    "filter() selects items from an iterable based on a condition.\n",
    "\n",
    "reduce() applies a function cumulatively to items, reducing the iterable to a single value.\n",
    "\"\"\"\n",
    "from functools import reduce\n",
    "\n",
    "nums = [1, 2, 3, 4, 5]\n",
    "\n",
    "mapped = list(map(lambda x: x * 2, nums))\n",
    "filtered = list(filter(lambda x: x % 2 == 0, nums))\n",
    "reduced = reduce(lambda x, y: x + y, nums)\n",
    "\n",
    "print(mapped)\n",
    "print(filtered)\n",
    "print(reduced)\n"
   ]
  },
  {
   "cell_type": "code",
   "execution_count": null,
   "id": "a34dd5b2",
   "metadata": {},
   "outputs": [],
   "source": [
    "# 11. Using pen & Paper write the internal mechanism for sum operation using  reduce function on this given\n",
    "# list:[47,11,42,13]\n",
    "\n"
   ]
  },
  {
   "cell_type": "markdown",
   "id": "87435cc6",
   "metadata": {},
   "source": [
    "\n",
    "# Practical Questions"
   ]
  },
  {
   "cell_type": "code",
   "execution_count": 18,
   "id": "47924ae5",
   "metadata": {},
   "outputs": [
    {
     "data": {
      "text/plain": [
       "6"
      ]
     },
     "execution_count": 18,
     "metadata": {},
     "output_type": "execute_result"
    }
   ],
   "source": [
    "# 1. Write a Python function that takes a list of numbers as input and returns the sum of all even numbers in the list.\n",
    "def sum_of_even(lst):\n",
    "    even_sum = 0\n",
    "    for i in lst:\n",
    "        if i%2 == 0:\n",
    "            even_sum += i\n",
    "        else:\n",
    "            continue\n",
    "    return even_sum\n",
    "            \n",
    "lst = [1,2,3,4,5]\n",
    "sum_of_even(lst)\n"
   ]
  },
  {
   "cell_type": "code",
   "execution_count": 19,
   "id": "c4bc939a",
   "metadata": {},
   "outputs": [
    {
     "data": {
      "text/plain": [
       "'aytidA'"
      ]
     },
     "execution_count": 19,
     "metadata": {},
     "output_type": "execute_result"
    }
   ],
   "source": [
    "# 2. Create a Python function that accepts a string and returns the reverse of that string.\n",
    "def reverse_string(st):\n",
    "    st = st[::-1]\n",
    "    return st\n",
    "reverse_string('Aditya')"
   ]
  },
  {
   "cell_type": "code",
   "execution_count": 21,
   "id": "7642da76",
   "metadata": {},
   "outputs": [
    {
     "data": {
      "text/plain": [
       "[1, 4, 9, 16, 25]"
      ]
     },
     "execution_count": 21,
     "metadata": {},
     "output_type": "execute_result"
    }
   ],
   "source": [
    "# 3. Implement a Python function that takes a list of integers and returns a new list containing the squares of each number.\n",
    "def square_list(lst1):\n",
    "    return [i**2 for i in lst]\n",
    "lst1 = [1,2,3,4,5]\n",
    "square_list(lst1)"
   ]
  },
  {
   "cell_type": "code",
   "execution_count": 22,
   "id": "1a5e122c",
   "metadata": {},
   "outputs": [
    {
     "name": "stdout",
     "output_type": "stream",
     "text": [
      "2\n",
      "3\n",
      "5\n",
      "7\n",
      "11\n",
      "13\n",
      "17\n",
      "19\n",
      "23\n",
      "29\n",
      "31\n",
      "37\n",
      "41\n",
      "43\n",
      "47\n",
      "53\n",
      "59\n",
      "61\n",
      "67\n",
      "71\n",
      "73\n",
      "79\n",
      "83\n",
      "89\n",
      "97\n",
      "101\n",
      "103\n",
      "107\n",
      "109\n",
      "113\n",
      "127\n",
      "131\n",
      "137\n",
      "139\n",
      "149\n",
      "151\n",
      "157\n",
      "163\n",
      "167\n",
      "173\n",
      "179\n",
      "181\n",
      "191\n",
      "193\n",
      "197\n",
      "199\n"
     ]
    }
   ],
   "source": [
    "# 4. Write a Python function that checks if a given number is prime or not from 1 to 200.\n",
    "def is_prime(n):\n",
    "    if n < 2:\n",
    "        return False\n",
    "    for i in range(2, int(n**0.5) + 1):\n",
    "        if n % i == 0:\n",
    "            return False\n",
    "    return True\n",
    "\n",
    "for num in range(1, 201):\n",
    "    if is_prime(num):\n",
    "        print(num)\n"
   ]
  },
  {
   "cell_type": "code",
   "execution_count": 24,
   "id": "820c6a72",
   "metadata": {},
   "outputs": [
    {
     "name": "stdout",
     "output_type": "stream",
     "text": [
      "0\n",
      "1\n",
      "1\n",
      "2\n",
      "3\n",
      "5\n",
      "8\n",
      "13\n",
      "21\n",
      "34\n"
     ]
    }
   ],
   "source": [
    "# 5. Create an iterator class in Python that generates the Fibonacci sequence up to a specified number of terms.\n",
    "\n",
    "def fibonacci(n):\n",
    "    a, b = 0, 1\n",
    "    count = 0\n",
    "    while count < n:\n",
    "        yield a\n",
    "        a, b = b, a + b\n",
    "        count += 1\n",
    "\n",
    "gen = fibonacci(10)\n",
    "print(next(gen))\n",
    "print(next(gen))\n",
    "print(next(gen))\n",
    "print(next(gen))\n",
    "print(next(gen))\n",
    "print(next(gen))\n",
    "print(next(gen))\n",
    "print(next(gen))\n",
    "print(next(gen))\n",
    "print(next(gen))\n",
    "\n"
   ]
  },
  {
   "cell_type": "code",
   "execution_count": 25,
   "id": "1f223a05",
   "metadata": {},
   "outputs": [
    {
     "name": "stdout",
     "output_type": "stream",
     "text": [
      "1\n",
      "2\n",
      "4\n",
      "8\n",
      "16\n",
      "32\n"
     ]
    }
   ],
   "source": [
    "# 6. Write a generator function in Python that yields the powers of 2 up to a given exponent.\n",
    "def powers_of_two(exponent):\n",
    "    for i in range(exponent + 1):\n",
    "        yield 2 ** i\n",
    "\n",
    "gen = powers_of_two(5)\n",
    "print(next(gen))\n",
    "print(next(gen))\n",
    "print(next(gen))\n",
    "print(next(gen))\n",
    "print(next(gen))\n",
    "print(next(gen))\n"
   ]
  },
  {
   "cell_type": "code",
   "execution_count": 28,
   "id": "5ec82ce7",
   "metadata": {},
   "outputs": [
    {
     "name": "stdout",
     "output_type": "stream",
     "text": [
      "I am Aditya Joshi.I am from Akola, Maharashtra.\n",
      "I have completed my B.E from TCET Mumbai\n"
     ]
    }
   ],
   "source": [
    "# 7.  Implement a generator function that reads a file line by line and yields each line as a string.\n",
    "def read_file_line_by_line(file_path):\n",
    "    with open(file_path, 'r') as file:\n",
    "        for line in file:\n",
    "            yield line.rstrip('\\n')\n",
    "\n",
    "gen = read_file_line_by_line('example.txt')\n",
    "print(next(gen))\n",
    "print(next(gen))\n"
   ]
  },
  {
   "cell_type": "code",
   "execution_count": 29,
   "id": "2f527480",
   "metadata": {},
   "outputs": [
    {
     "name": "stdout",
     "output_type": "stream",
     "text": [
      "[(4, 1), (5, 2), (1, 3), (2, 4)]\n"
     ]
    }
   ],
   "source": [
    "# 8. Use a lambda function in Python to sort a list of tuples based on the second element of each tuple.\n",
    "data = [(1, 3), (4, 1), (5, 2), (2, 4)]\n",
    "sorted_data = sorted(data, key=lambda x: x[1])\n",
    "print(sorted_data)\n"
   ]
  },
  {
   "cell_type": "code",
   "execution_count": 30,
   "id": "11f97bdd",
   "metadata": {},
   "outputs": [
    {
     "name": "stdout",
     "output_type": "stream",
     "text": [
      "[32.0, 68.0, 98.6, 212.0]\n"
     ]
    }
   ],
   "source": [
    "# 9. Write a Python program that uses `map()` to convert a list of temperatures from Celsius to Fahrenheit.\n",
    "celsius = [0, 20, 37, 100]\n",
    "fahrenheit = list(map(lambda c: (c * 9/5) + 32, celsius))\n",
    "print(fahrenheit)\n"
   ]
  },
  {
   "cell_type": "code",
   "execution_count": 31,
   "id": "19d46aff",
   "metadata": {},
   "outputs": [
    {
     "name": "stdout",
     "output_type": "stream",
     "text": [
      "Hll, hw r y?\n"
     ]
    }
   ],
   "source": [
    "# 10. Create a Python program that uses `filter()` to remove all the vowels from a given string.\n",
    "text = \"Hello, how are you?\"\n",
    "vowels = \"aeiouAEIOU\"\n",
    "filtered_chars = filter(lambda ch: ch not in vowels, text)\n",
    "result = ''.join(filtered_chars)\n",
    "print(result)\n"
   ]
  },
  {
   "cell_type": "code",
   "execution_count": 33,
   "id": "194a217b",
   "metadata": {},
   "outputs": [
    {
     "name": "stdout",
     "output_type": "stream",
     "text": [
      "[(1, 85.0), (2, 100.0), (3, 85.0), (4, 120.0)]\n"
     ]
    }
   ],
   "source": [
    "# 11) Imagine an accounting routine used in a book shop. It works on a list with sublists, which look like this:\n",
    "\n",
    "# Order Number     Book title and Author      Quantity Price per Item\n",
    "\n",
    "\n",
    "\n",
    "\n",
    "\n",
    "# Write a Python program, which returns a list with 2-tuples. Each tuple consists of the order number and the\n",
    "# product of the price per item and the quantity. The product should be increased by 10,- € if the value of the\n",
    "# order is smaller than 100,00 €.\n",
    "\n",
    "# Write a Python program using lambda and map.\n",
    "orders = [\n",
    "    [1, \"Book A by Author A\", 3, 25.0],\n",
    "    [2, \"Book B by Author B\", 1, 90.0],\n",
    "    [3, \"Book C by Author C\", 5, 15.0],\n",
    "    [4, \"Book D by Author D\", 2, 60.0]\n",
    "]\n",
    "\n",
    "result = list(map(lambda order: (order[0], order[2] * order[3] + (10 if order[2] * order[3] < 100 else 0)), orders))\n",
    "print(result)\n"
   ]
  },
  {
   "cell_type": "code",
   "execution_count": null,
   "id": "1aaa61af",
   "metadata": {},
   "outputs": [],
   "source": []
  }
 ],
 "metadata": {
  "kernelspec": {
   "display_name": "Python 3 (ipykernel)",
   "language": "python",
   "name": "python3"
  },
  "language_info": {
   "codemirror_mode": {
    "name": "ipython",
    "version": 3
   },
   "file_extension": ".py",
   "mimetype": "text/x-python",
   "name": "python",
   "nbconvert_exporter": "python",
   "pygments_lexer": "ipython3",
   "version": "3.9.13"
  }
 },
 "nbformat": 4,
 "nbformat_minor": 5
}
