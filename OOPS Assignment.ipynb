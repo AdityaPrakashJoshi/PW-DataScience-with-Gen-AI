{
 "cells": [
  {
   "cell_type": "markdown",
   "id": "3a9492dc",
   "metadata": {},
   "source": [
    "# Python OOPS Question"
   ]
  },
  {
   "cell_type": "code",
   "execution_count": 1,
   "id": "96e4afd7",
   "metadata": {},
   "outputs": [
    {
     "data": {
      "text/plain": [
       "'\\nIt is a approach that uses classes and objects to make code reusable, sclable\\n'"
      ]
     },
     "execution_count": 1,
     "metadata": {},
     "output_type": "execute_result"
    }
   ],
   "source": [
    "# 1. What is Object-Oriented Programming (OOP)?\n",
    "\"\"\"\n",
    "It is a approach that uses classes and objects to make code reusable, sclable\n",
    "\"\"\""
   ]
  },
  {
   "cell_type": "code",
   "execution_count": null,
   "id": "ac2cedb2",
   "metadata": {},
   "outputs": [],
   "source": [
    "# 2. What is a class in OOP?\n",
    "\"\"\"\n",
    "A class is a blueprint of an object, where attributes and behavipur of methods is defined.\n",
    "\"\"\""
   ]
  },
  {
   "cell_type": "code",
   "execution_count": null,
   "id": "dddb3919",
   "metadata": {},
   "outputs": [],
   "source": [
    "# 3. What is an object in OOP?\n",
    "\"\"\"\n",
    "An object is the instance of the class\n",
    "\"\"\""
   ]
  },
  {
   "cell_type": "code",
   "execution_count": null,
   "id": "72670f1d",
   "metadata": {},
   "outputs": [],
   "source": [
    "# 4. What is the difference between abstraction and encapsulation?\n",
    "\"\"\"\n",
    "Abstraction hides all the complexity and show only needed part of the code while encapsulation bundles the methods and properties\n",
    "of the class\n",
    "\"\"\""
   ]
  },
  {
   "cell_type": "code",
   "execution_count": null,
   "id": "e36f94be",
   "metadata": {},
   "outputs": [],
   "source": [
    "# 5. What are dunder methods in Python?\n",
    "\"\"\"\n",
    "Dunder methods are the special methods which have double underscore at the end and start. These enable you to customize the \n",
    "behaviour of object\n",
    "Example : __init__, __str__, __add__\n",
    "\"\"\""
   ]
  },
  {
   "cell_type": "code",
   "execution_count": null,
   "id": "6c9b1b54",
   "metadata": {},
   "outputs": [],
   "source": [
    "# 6. Expain the concept of inheritance in OOP?\n",
    "\"\"\"\n",
    "Concepts  of inheritance:\n",
    "    - Inheritance : Base class derives the properties of parent class.\n",
    "    - Abstraction : Hide complex details and only show necessary part.\n",
    "    - Encapsulation : Bundle together the methods and properties of a class together\n",
    "    - Polymorphism : Allows the same method to behave differently based on the object \n",
    "\"\"\""
   ]
  },
  {
   "cell_type": "code",
   "execution_count": null,
   "id": "e22e43a2",
   "metadata": {},
   "outputs": [],
   "source": [
    "# 7. What is polymorphism in OOP?\n",
    "\"\"\"\n",
    "Polymorphism in OOP is the ability of different classes to use the same method name but have different implementations,\n",
    "allowing objects to behave differently based on their class.\n",
    "\"\"\""
   ]
  },
  {
   "cell_type": "code",
   "execution_count": null,
   "id": "3172e7af",
   "metadata": {},
   "outputs": [],
   "source": [
    "# 8. How is encapsulation achieved in Python?\n",
    "\"\"\"\n",
    "Encapsulation in Python is achieved by defining class attributes as private or protected using underscores\n",
    "(e.g., _protected, __private) and accessing them through methods like getters and setters.\n",
    "\"\"\""
   ]
  },
  {
   "cell_type": "code",
   "execution_count": null,
   "id": "a730a860",
   "metadata": {},
   "outputs": [],
   "source": [
    "# 9. What is a constructor in Python?\n",
    "\"\"\"\n",
    "A constructor in Python is a special method that is automatically called when an object is created to initialize its attributes.\n",
    "\"\"\""
   ]
  },
  {
   "cell_type": "code",
   "execution_count": null,
   "id": "dc091468",
   "metadata": {},
   "outputs": [],
   "source": [
    "# 10. What are class and static methods in Python?\n",
    "\"\"\"\n",
    "A class method is defined with @classmethod and takes cls as the first argument; it can access and modify class-level data.\n",
    "\n",
    "A static method is defined with @staticmethod and doesn’t take self or cls; it behaves like a regular function but belongs\n",
    "to the class’s namespace.\n",
    "\"\"\""
   ]
  },
  {
   "cell_type": "code",
   "execution_count": null,
   "id": "020f5d37",
   "metadata": {},
   "outputs": [],
   "source": [
    "# 11. What is method overloading in Python?\n",
    "\"\"\"\n",
    "Method overloading in Python refers to defining multiple methods with the same name but different arguments\n",
    "\"\"\""
   ]
  },
  {
   "cell_type": "code",
   "execution_count": null,
   "id": "54a24cc8",
   "metadata": {},
   "outputs": [],
   "source": [
    "# 12. What is method overriding in OOP?\n",
    "\"\"\"\n",
    "method overriding in python refers to the inplementation of child class method when the same method is present in parent class.\n",
    "\"\"\""
   ]
  },
  {
   "cell_type": "code",
   "execution_count": null,
   "id": "3940f5d1",
   "metadata": {},
   "outputs": [],
   "source": [
    "# 13. What is a property decorator in Python?\n",
    "\"\"\"\n",
    "The @property decorator in Python is used to convert a method into a read-only attribute\n",
    "\"\"\""
   ]
  },
  {
   "cell_type": "code",
   "execution_count": null,
   "id": "ab723d00",
   "metadata": {},
   "outputs": [],
   "source": [
    "# 14. Why is polymorphism important in OOP?\n",
    "\"\"\"\n",
    "Polymorphism is important in OOP because it allows different objects to respond to the same method call in their\n",
    "own way, enabling code flexibility, reusability, and scalability.\n",
    "\"\"\""
   ]
  },
  {
   "cell_type": "code",
   "execution_count": null,
   "id": "f6236e77",
   "metadata": {},
   "outputs": [],
   "source": [
    "# 15. What is an abstract class in Python?\n",
    "\"\"\"\n",
    "An abstract class in Python is a class that cannot be instantiated and is used to define a common interface for its subclasses.\n",
    "\"\"\""
   ]
  },
  {
   "cell_type": "code",
   "execution_count": null,
   "id": "2605108a",
   "metadata": {},
   "outputs": [],
   "source": [
    "# 16. What are the advantages of OOP?\n",
    "\"\"\"\n",
    "Advantages of OOPS:\n",
    "    - Reusability\n",
    "    - Scalablity\n",
    "    - Modularity\n",
    "\"\"\""
   ]
  },
  {
   "cell_type": "code",
   "execution_count": null,
   "id": "0e057ac7",
   "metadata": {},
   "outputs": [],
   "source": [
    "# 17. What is the difference between a class variable and an instance variable?\n",
    "\"\"\"\n",
    "Class variable is shared by all instances of a class and defined at the class level.\n",
    "Instance variable is unique to each object and defined inside the constructor.\n",
    "\"\"\""
   ]
  },
  {
   "cell_type": "code",
   "execution_count": null,
   "id": "6cc0ead9",
   "metadata": {},
   "outputs": [],
   "source": [
    "# 18. What is multiple inheritance in Python?\n",
    "\"\"\"\n",
    "child class can inherit from more than one parent class, allowing it to access attributes and methods of all parent classes.\n",
    "\"\"\""
   ]
  },
  {
   "cell_type": "code",
   "execution_count": null,
   "id": "92ad5494",
   "metadata": {},
   "outputs": [],
   "source": [
    "# 19. Explain the purpose of ‘’__str__’ and ‘__repr__’ ‘ methods in Python.\n",
    "\"\"\"\n",
    "__str__ is used to return a user-friendly string representation of an object, typically for printing.\n",
    "__repr__ is used to return an official or developer-friendly string representation of the object, ideally\n",
    "one that can recreate the object when passed to eval().\n",
    "\"\"\""
   ]
  },
  {
   "cell_type": "code",
   "execution_count": null,
   "id": "5989767d",
   "metadata": {},
   "outputs": [],
   "source": [
    "# 20.  What is the significance of the ‘super()’ function in Python?\n",
    "\"\"\"\n",
    "The super() function in Python is used to call methods from a parent class\n",
    "\"\"\""
   ]
  },
  {
   "cell_type": "code",
   "execution_count": null,
   "id": "df438a4e",
   "metadata": {},
   "outputs": [],
   "source": [
    "# 21.  What is the significance of the __del__ method in Python?\n",
    "\"\"\"\n",
    "__del__ method that is called by the garbage collector just before an object is destroyed.\n",
    "\"\"\""
   ]
  },
  {
   "cell_type": "code",
   "execution_count": null,
   "id": "560a2d23",
   "metadata": {},
   "outputs": [],
   "source": [
    "# 22. What is the difference between @staticmethod and @classmethod in Python?\n",
    "\"\"\"\n",
    "    -@staticmethod does not take self or cls and behaves like a regular function inside a class.\n",
    "    -@classmethod takes cls as the first parameter and can access or modify class-level data.\n",
    "\"\"\""
   ]
  },
  {
   "cell_type": "code",
   "execution_count": null,
   "id": "f55a2d2a",
   "metadata": {},
   "outputs": [],
   "source": [
    "# 23. How does polymorphism work in Python with inheritance?\n",
    "\"\"\"\n",
    "Polymorphism with inheritance allows subclasses to override methods of a parent class so that the same method call\n",
    "behaves differently depending on the object type.\n",
    "\"\"\""
   ]
  },
  {
   "cell_type": "code",
   "execution_count": null,
   "id": "bba6fd6d",
   "metadata": {},
   "outputs": [],
   "source": [
    "# 24. What is method chaining in Python OOP?\n",
    "\"\"\"\n",
    "Method chaining is a technique where multiple methods are called sequentially on the same object in a single line,\n",
    "by returning self from each method.\n",
    "\"\"\""
   ]
  },
  {
   "cell_type": "code",
   "execution_count": null,
   "id": "ca2672e0",
   "metadata": {},
   "outputs": [],
   "source": [
    "# 25. What is the purpose of the __call__ method in Python?\n",
    "\"\"\"\n",
    "The __call__ method allows an object to be called like a function, enabling objects to behave like functions.\n",
    "\"\"\""
   ]
  },
  {
   "cell_type": "markdown",
   "id": "261f7746",
   "metadata": {},
   "source": [
    "# Practical Questions"
   ]
  },
  {
   "cell_type": "code",
   "execution_count": 3,
   "id": "c10efdaa",
   "metadata": {},
   "outputs": [
    {
     "name": "stdout",
     "output_type": "stream",
     "text": [
      "Bark!\n"
     ]
    }
   ],
   "source": [
    "# 1.  Create a parent class Animal with a method speak() that prints a generic message. Create a child class Dog\n",
    "# that overrides the speak() method to print \"Bark!\".\n",
    "\n",
    "class Animal:\n",
    "    def speak(self):\n",
    "        print(\"Animals Speak\")\n",
    "class Dog(Animal):\n",
    "    def speak(self):\n",
    "        print(\"Bark!\")\n",
    "d = Dog()\n",
    "d.speak()"
   ]
  },
  {
   "cell_type": "code",
   "execution_count": 6,
   "id": "05a5eed7",
   "metadata": {},
   "outputs": [
    {
     "name": "stdout",
     "output_type": "stream",
     "text": [
      "12.56\n",
      "6\n"
     ]
    }
   ],
   "source": [
    "# 2.  Write a program to create an abstract class Shape with a method area(). Derive classes Circle and Rectangle\n",
    "# from it and implement the area() method in both.\n",
    "\n",
    "from abc import ABC, abstractmethod\n",
    "class Shape(ABC):\n",
    "    @abstractmethod\n",
    "    def area():\n",
    "        pass\n",
    "    \n",
    "class Circle(Shape):\n",
    "    def __init__(self, radius):\n",
    "        self.radius = radius\n",
    "        self.pi = 3.14\n",
    "    def area(self):\n",
    "        return self.pi*self.radius*self.radius\n",
    "\n",
    "class Rectangle(Shape):\n",
    "    def __init__(self,length, breadth):\n",
    "        self.length = length\n",
    "        self.breadth = breadth\n",
    "    def area(self):\n",
    "        return self.length * self.breadth\n",
    "    \n",
    "c = Circle(2)\n",
    "r = Rectangle(2,3)\n",
    "\n",
    "print(c.area())\n",
    "print(r.area())"
   ]
  },
  {
   "cell_type": "code",
   "execution_count": 8,
   "id": "5e4e57ff",
   "metadata": {},
   "outputs": [
    {
     "name": "stdout",
     "output_type": "stream",
     "text": [
      "Vehicle Type: Four Wheeler\n",
      "Car Brand: Tesla\n",
      "Battery Capacity: 75 kWh\n"
     ]
    }
   ],
   "source": [
    "# 3. Implement a multi-level inheritance scenario where a class Vehicle has an attribute type. Derive a class Car\n",
    "# and further derive a class ElectricCar that adds a battery attribute.\n",
    "\n",
    "\n",
    "class Vehicle:\n",
    "    def __init__(self, vehicle_type):\n",
    "        self.vehicle_type = vehicle_type\n",
    "\n",
    "    def show_type(self):\n",
    "        print(f\"Vehicle Type: {self.vehicle_type}\")\n",
    "\n",
    "\n",
    "class Car(Vehicle):\n",
    "    def __init__(self, vehicle_type, brand):\n",
    "        super().__init__(vehicle_type)\n",
    "        self.brand = brand\n",
    "\n",
    "    def show_brand(self):\n",
    "        print(f\"Car Brand: {self.brand}\")\n",
    "\n",
    "\n",
    "class ElectricCar(Car):\n",
    "    def __init__(self, vehicle_type, brand, battery_capacity):\n",
    "        super().__init__(vehicle_type, brand)\n",
    "        self.battery_capacity = battery_capacity\n",
    "\n",
    "    def show_battery(self):\n",
    "        print(f\"Battery Capacity: {self.battery_capacity} kWh\")\n",
    "\n",
    "\n",
    "e_car = ElectricCar(\"Four Wheeler\", \"Tesla\", 75)\n",
    "e_car.show_type()\n",
    "e_car.show_brand()\n",
    "e_car.show_battery()\n"
   ]
  },
  {
   "cell_type": "code",
   "execution_count": 9,
   "id": "cf26a56f",
   "metadata": {},
   "outputs": [
    {
     "name": "stdout",
     "output_type": "stream",
     "text": [
      "Sparrow Fly\n",
      "None\n",
      "Penguin dont Fly\n",
      "None\n"
     ]
    }
   ],
   "source": [
    "# 4. Demonstrate polymorphism by creating a base class Bird with a method fly(). Create two derived classes\n",
    "# Sparrow and Penguin that override the fly() method.\n",
    "\n",
    "class Bird:\n",
    "    def fly(self):\n",
    "        print(\"Birds Fly\")\n",
    "class Sparrow(Bird):\n",
    "    def fly(self):\n",
    "        print(\"Sparrow Fly\")\n",
    "class Penguin(Bird):\n",
    "    def fly(self):\n",
    "        print(\"Penguin dont Fly\")\n",
    "        \n",
    "s = Sparrow()\n",
    "p = Penguin()\n",
    "\n",
    "print(s.fly())\n",
    "print(p.fly())"
   ]
  },
  {
   "cell_type": "code",
   "execution_count": 15,
   "id": "26aed176",
   "metadata": {},
   "outputs": [
    {
     "name": "stdout",
     "output_type": "stream",
     "text": [
      "Amount 4000 deposited.\n",
      "Amount 1200 withdrawn.\n",
      "Your Balance is 3800\n"
     ]
    }
   ],
   "source": [
    "# 5.  Write a program to demonstrate encapsulation by creating a class BankAccount with private attributes\n",
    "# balance and methods to deposit, withdraw, and check balance\n",
    "\n",
    "class BankAccount:\n",
    "    def __init__(self, balance=1000):\n",
    "        self.__balance = balance  # private attribute\n",
    "\n",
    "    def deposit(self, amount):\n",
    "        self.__balance += amount\n",
    "        print(f\"Amount {amount} deposited.\")\n",
    "\n",
    "    def withdraw(self, amount):\n",
    "        if self.__balance >= amount:\n",
    "            self.__balance -= amount\n",
    "            print(f\"Amount {amount} withdrawn.\")\n",
    "        else:\n",
    "            print(\"Insufficient balance!!!\")\n",
    "\n",
    "    def check_balance(self):\n",
    "        print('Your Balance is', self.__balance)\n",
    "\n",
    "\n",
    "u = BankAccount()\n",
    "u.deposit(4000)\n",
    "u.withdraw(1200)\n",
    "u.check_balance()\n"
   ]
  },
  {
   "cell_type": "code",
   "execution_count": 16,
   "id": "6b08c283",
   "metadata": {},
   "outputs": [
    {
     "name": "stdout",
     "output_type": "stream",
     "text": [
      "To play guitar we have to master strings\n",
      "To play piano we have to master strings\n"
     ]
    }
   ],
   "source": [
    "# 6.  Demonstrate runtime polymorphism using a method play() in a base class Instrument. Derive classes Guitar\n",
    "# and Piano that implement their own version of play()\n",
    "\n",
    "class Instrument:\n",
    "    def play(self):\n",
    "        print(\"Instrument give melody sound when played\")\n",
    "        \n",
    "class Guitar(Instrument):\n",
    "    def play(self):\n",
    "        print(\"To play guitar we have to master strings\")\n",
    "        \n",
    "class Piano(Instrument):\n",
    "    def play(self):\n",
    "        print(\"To play piano we have to master strings\")\n",
    "        \n",
    "g = Guitar()\n",
    "p = Piano()\n",
    "\n",
    "g.play()\n",
    "p.play()"
   ]
  },
  {
   "cell_type": "code",
   "execution_count": 19,
   "id": "9b357c9b",
   "metadata": {},
   "outputs": [
    {
     "name": "stdout",
     "output_type": "stream",
     "text": [
      "5\n",
      "1\n"
     ]
    }
   ],
   "source": [
    "# 7. Create a class MathOperations with a class method add_numbers() to add two numbers and a static\n",
    "# method subtract_numbers() to subtract two numbers.\n",
    "\n",
    "class MathOperations:\n",
    "    def add_numbers(self,a,b):\n",
    "        return a+b\n",
    "    @staticmethod\n",
    "    def subtract_numbers(a,b):\n",
    "        return a-b\n",
    "    \n",
    "ops = MathOperations()\n",
    "\n",
    "print(ops.add_numbers(2,3))\n",
    "print(ops.subtract_numbers(3,2))"
   ]
  },
  {
   "cell_type": "code",
   "execution_count": 33,
   "id": "664378bd",
   "metadata": {},
   "outputs": [
    {
     "name": "stdout",
     "output_type": "stream",
     "text": [
      "1\n",
      "2\n",
      "3\n"
     ]
    }
   ],
   "source": [
    "# 8. Implement a class Person with a class method to count the total number of persons created.\n",
    "class Person:\n",
    "    cnt = 0\n",
    "\n",
    "    def __init__(self):\n",
    "        Person.count()\n",
    "\n",
    "    @classmethod\n",
    "    def count(cls):\n",
    "        cls.cnt += 1\n",
    "\n",
    "    @classmethod\n",
    "    def get_count(cls):\n",
    "        return cls.cnt\n",
    "\n",
    "u1 = Person()\n",
    "print(Person.get_count())  \n",
    "\n",
    "u2 = Person()\n",
    "print(Person.get_count())  \n",
    "\n",
    "u3 = Person()\n",
    "print(Person.get_count())  \n"
   ]
  },
  {
   "cell_type": "code",
   "execution_count": 35,
   "id": "3531f91b",
   "metadata": {},
   "outputs": [
    {
     "name": "stdout",
     "output_type": "stream",
     "text": [
      "3/5\n"
     ]
    }
   ],
   "source": [
    "# 9.  Write a class Fraction with attributes numerator and denominator. Override the str method to display the\n",
    "# fraction as \"numerator/denominator\".\n",
    "\n",
    "class Fraction:\n",
    "    def __init__(self, numerator, denominator):\n",
    "        self.numerator = numerator\n",
    "        self.denominator = denominator\n",
    "\n",
    "    def __str__(self):\n",
    "        return f\"{self.numerator}/{self.denominator}\"\n",
    "\n",
    "\n",
    "f1 = Fraction(3, 5)\n",
    "print(f1)\n",
    "\n"
   ]
  },
  {
   "cell_type": "code",
   "execution_count": 36,
   "id": "334f6c53",
   "metadata": {},
   "outputs": [
    {
     "name": "stdout",
     "output_type": "stream",
     "text": [
      "(6, 8)\n"
     ]
    }
   ],
   "source": [
    "# 10.  Demonstrate operator overloading by creating a class Vector and overriding the add method to add two\n",
    "# vectors.\n",
    "\n",
    "class Vector:\n",
    "    def __init__(self, x, y):\n",
    "        self.x = x\n",
    "        self.y = y\n",
    "\n",
    "    def __add__(self, other):\n",
    "        \n",
    "        return Vector(self.x + other.x, self.y + other.y)\n",
    "\n",
    "    def __str__(self):\n",
    "        return f\"({self.x}, {self.y})\"\n",
    "\n",
    "\n",
    "v1 = Vector(2, 3)\n",
    "v2 = Vector(4, 5)\n",
    "v3 = v1 + v2\n",
    "\n",
    "print(v3)   \n"
   ]
  },
  {
   "cell_type": "code",
   "execution_count": 37,
   "id": "31b78667",
   "metadata": {},
   "outputs": [
    {
     "name": "stdout",
     "output_type": "stream",
     "text": [
      "Hello, my name is Aditya and I am 23 years old.\n"
     ]
    }
   ],
   "source": [
    "# 11.  Create a class Person with attributes name and age. Add a method greet() that prints \"Hello, my name is\n",
    "# {name} and I am {age} years old.\"\n",
    "\n",
    "class Person:\n",
    "    def __init__(self, name, age):\n",
    "        self.name = name\n",
    "        self.age = age\n",
    "\n",
    "    def greet(self):\n",
    "        print(f\"Hello, my name is {self.name} and I am {self.age} years old.\")\n",
    "\n",
    "\n",
    "p1 = Person(\"Aditya\", 23)\n",
    "p1.greet()\n",
    "\n"
   ]
  },
  {
   "cell_type": "code",
   "execution_count": 38,
   "id": "d3dea747",
   "metadata": {},
   "outputs": [
    {
     "name": "stdout",
     "output_type": "stream",
     "text": [
      "Aditya's average grade is: 86.25\n"
     ]
    }
   ],
   "source": [
    "# 12.  Implement a class Student with attributes name and grades. Create a method average_grade() to compute\n",
    "# the average of the grades.\n",
    "\n",
    "class Student:\n",
    "    def __init__(self, name, grades):\n",
    "        self.name = name\n",
    "        self.grades = grades  \n",
    "\n",
    "    def average_grade(self):\n",
    "        if len(self.grades) == 0:\n",
    "            return 0\n",
    "        return sum(self.grades) / len(self.grades)\n",
    "\n",
    "\n",
    "s1 = Student(\"Aditya\", [85, 90, 78, 92])\n",
    "print(f\"{s1.name}'s average grade is: {s1.average_grade()}\")\n"
   ]
  },
  {
   "cell_type": "code",
   "execution_count": 39,
   "id": "4becfe00",
   "metadata": {},
   "outputs": [
    {
     "name": "stdout",
     "output_type": "stream",
     "text": [
      "Area of the rectangle: 50\n"
     ]
    }
   ],
   "source": [
    "# 13. Create a class Rectangle with methods set_dimensions() to set the dimensions and area() to calculate the\n",
    "# area.\n",
    "\n",
    "class Rectangle:\n",
    "    def __init__(self):\n",
    "        self.length = 0\n",
    "        self.breadth = 0\n",
    "\n",
    "    def set_dimensions(self, length, breadth):\n",
    "        self.length = length\n",
    "        self.breadth = breadth\n",
    "\n",
    "    def area(self):\n",
    "        return self.length * self.breadth\n",
    "\n",
    "r1 = Rectangle()\n",
    "r1.set_dimensions(10, 5)\n",
    "print(f\"Area of the rectangle: {r1.area()}\")\n"
   ]
  },
  {
   "cell_type": "code",
   "execution_count": 40,
   "id": "00c443fc",
   "metadata": {},
   "outputs": [
    {
     "name": "stdout",
     "output_type": "stream",
     "text": [
      "Employee Salary: 800\n",
      "Manager Salary: 1700\n"
     ]
    }
   ],
   "source": [
    "# 14.  Create a class Employee with a method calculate_salary() that computes the salary based on hours worked\n",
    "# and hourly rate. Create a derived class Manager that adds a bonus to the salary.\n",
    "\n",
    "class Employee:\n",
    "    def __init__(self, name, hours_worked, hourly_rate):\n",
    "        self.name = name\n",
    "        self.hours_worked = hours_worked\n",
    "        self.hourly_rate = hourly_rate\n",
    "\n",
    "    def calculate_salary(self):\n",
    "        return self.hours_worked * self.hourly_rate\n",
    "\n",
    "class Manager(Employee):\n",
    "    def __init__(self, name, hours_worked, hourly_rate, bonus):\n",
    "        super().__init__(name, hours_worked, hourly_rate)\n",
    "        self.bonus = bonus\n",
    "\n",
    "    def calculate_salary(self):\n",
    "        base_salary = super().calculate_salary()\n",
    "        return base_salary + self.bonus\n",
    "\n",
    "# Example usage\n",
    "emp = Employee(\"John\", 40, 20)\n",
    "print(f\"Employee Salary: {emp.calculate_salary()}\")\n",
    "\n",
    "mgr = Manager(\"Alice\", 40, 30, 500)\n",
    "print(f\"Manager Salary: {mgr.calculate_salary()}\")\n"
   ]
  },
  {
   "cell_type": "code",
   "execution_count": 41,
   "id": "6fed5545",
   "metadata": {},
   "outputs": [
    {
     "name": "stdout",
     "output_type": "stream",
     "text": [
      "Total price for Laptops: ₹100000\n"
     ]
    }
   ],
   "source": [
    "# 15. . Create a class Product with attributes name, price, and quantity. Implement a method total_price() that\n",
    "# calculates the total price of the product\n",
    "\n",
    "class Product:\n",
    "    def __init__(self, name, price, quantity):\n",
    "        self.name = name\n",
    "        self.price = price\n",
    "        self.quantity = quantity\n",
    "\n",
    "    def total_price(self):\n",
    "        return self.price * self.quantity\n",
    "\n",
    "\n",
    "p1 = Product(\"Laptop\", 50000, 2)\n",
    "print(f\"Total price for {p1.name}s: ₹{p1.total_price()}\")\n"
   ]
  },
  {
   "cell_type": "code",
   "execution_count": 42,
   "id": "bc93e5fc",
   "metadata": {},
   "outputs": [
    {
     "name": "stdout",
     "output_type": "stream",
     "text": [
      "Cow says: Moo\n",
      "Sheep says: Baa\n"
     ]
    }
   ],
   "source": [
    "# 16. Create a class Animal with an abstract method sound(). Create two derived classes Cow and Sheep that\n",
    "# implement the sound() method.\n",
    "\n",
    "from abc import ABC, abstractmethod\n",
    "\n",
    "class Animal(ABC):\n",
    "    @abstractmethod\n",
    "    def sound(self):\n",
    "        pass\n",
    "\n",
    "class Cow(Animal):\n",
    "    def sound(self):\n",
    "        return \"Moo\"\n",
    "\n",
    "class Sheep(Animal):\n",
    "    def sound(self):\n",
    "        return \"Baa\"\n",
    "\n",
    "\n",
    "cow = Cow()\n",
    "sheep = Sheep()\n",
    "\n",
    "print(f\"Cow says: {cow.sound()}\")\n",
    "print(f\"Sheep says: {sheep.sound()}\")\n"
   ]
  },
  {
   "cell_type": "code",
   "execution_count": 43,
   "id": "50b99378",
   "metadata": {},
   "outputs": [
    {
     "name": "stdout",
     "output_type": "stream",
     "text": [
      "'1984' by George Orwell, published in 1949\n"
     ]
    }
   ],
   "source": [
    "# 17. Create a class Book with attributes title, author, and year_published. Add a method get_book_info() that returns a \n",
    "# formatted string with the book's details.\n",
    "\n",
    "\n",
    "class Book:\n",
    "    def __init__(self, title, author, year_published):\n",
    "        self.title = title\n",
    "        self.author = author\n",
    "        self.year_published = year_published\n",
    "\n",
    "    def get_book_info(self):\n",
    "        return f\"'{self.title}' by {self.author}, published in {self.year_published}\"\n",
    "\n",
    "book1 = Book(\"1984\", \"George Orwell\", 1949)\n",
    "print(book1.get_book_info())\n"
   ]
  },
  {
   "cell_type": "code",
   "execution_count": 45,
   "id": "d6864615",
   "metadata": {},
   "outputs": [
    {
     "name": "stdout",
     "output_type": "stream",
     "text": [
      "Address: 123 Dream Street, Price: ₹50000000, Rooms: 12\n"
     ]
    }
   ],
   "source": [
    "# 18. Create a class House with attributes address and price. Create a derived class Mansion that adds an\n",
    "# attribute number_of_rooms.\n",
    "\n",
    "class House:\n",
    "    def __init__(self, address, price):\n",
    "        self.address = address\n",
    "        self.price = price\n",
    "\n",
    "    def get_info(self):\n",
    "        return f\"Address: {self.address}, Price: ₹{self.price}\"\n",
    "\n",
    "class Mansion(House):\n",
    "    def __init__(self, address, price, number_of_rooms):\n",
    "        super().__init__(address, price)\n",
    "        self.number_of_rooms = number_of_rooms\n",
    "\n",
    "    def get_info(self):\n",
    "        return f\"Address: {self.address}, Price: ₹{self.price}, Rooms: {self.number_of_rooms}\"\n",
    "\n",
    "m = Mansion(\"123 Dream Street\", 50000000, 12)\n",
    "print(m.get_info())\n"
   ]
  },
  {
   "cell_type": "code",
   "execution_count": null,
   "id": "61a61722",
   "metadata": {},
   "outputs": [],
   "source": []
  },
  {
   "cell_type": "code",
   "execution_count": null,
   "id": "2be271a8",
   "metadata": {},
   "outputs": [],
   "source": []
  }
 ],
 "metadata": {
  "kernelspec": {
   "display_name": "Python 3 (ipykernel)",
   "language": "python",
   "name": "python3"
  },
  "language_info": {
   "codemirror_mode": {
    "name": "ipython",
    "version": 3
   },
   "file_extension": ".py",
   "mimetype": "text/x-python",
   "name": "python",
   "nbconvert_exporter": "python",
   "pygments_lexer": "ipython3",
   "version": "3.9.13"
  }
 },
 "nbformat": 4,
 "nbformat_minor": 5
}
