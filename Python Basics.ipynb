{
 "cells": [
  {
   "cell_type": "markdown",
   "id": "844e8bb9",
   "metadata": {},
   "source": [
    "# Python Basics"
   ]
  },
  {
   "cell_type": "code",
   "execution_count": 31,
   "id": "1a4a86eb",
   "metadata": {},
   "outputs": [
    {
     "data": {
      "text/plain": [
       "'\\nPython is a programming language, which is widely used in Data Science and Machine Learning, web development. It is popular because:\\n    a. It is more redable and easy to understand and code\\n    b. It has many libraries.\\n    c. It can be easily integrated with other tools like sql,etc.\\n'"
      ]
     },
     "execution_count": 31,
     "metadata": {},
     "output_type": "execute_result"
    }
   ],
   "source": [
    "#1. What is Python, and why is it popular? \n",
    "\"\"\"\n",
    "Python is a programming language, which is widely used in Data Science and Machine Learning, web development. It is popular because:\n",
    "    a. It is more redable and easy to understand and code\n",
    "    b. It has many libraries.\n",
    "    c. It can be easily integrated with other tools like sql,etc.\n",
    "\"\"\"\n",
    "\n"
   ]
  },
  {
   "cell_type": "code",
   "execution_count": 32,
   "id": "c1683d26",
   "metadata": {},
   "outputs": [
    {
     "data": {
      "text/plain": [
       "'\\nInterpreter is a program that executes the python code. For the python interpreter to run your python code your file should be saved as \\n.py file eg app.py. \\n'"
      ]
     },
     "execution_count": 32,
     "metadata": {},
     "output_type": "execute_result"
    }
   ],
   "source": [
    "#2. What is an interpreter in Python?\n",
    "\"\"\"\n",
    "Interpreter is a program that executes the python code. For the python interpreter to run your python code your file should be saved as \n",
    ".py file eg app.py. \n",
    "\"\"\""
   ]
  },
  {
   "cell_type": "code",
   "execution_count": 33,
   "id": "983d612f",
   "metadata": {},
   "outputs": [
    {
     "data": {
      "text/plain": [
       "'\\nPre-defined words are the special words in python which are part of the python syntax. Their meaning is predefined\\nby the developers of python and they should not be used to assign names to variables. If they are assigned that particular\\nline will run but next time when that key-word is used in python logic it will throw an error.\\n'"
      ]
     },
     "execution_count": 33,
     "metadata": {},
     "output_type": "execute_result"
    }
   ],
   "source": [
    "#3. What are pre-defined keywords in Python?\n",
    "\n",
    "\"\"\"\n",
    "Pre-defined words are the special words in python which are part of the python syntax. Their meaning is predefined\n",
    "by the developers of python and they should not be used to assign names to variables. If they are assigned that particular\n",
    "line will run but next time when that key-word is used in python logic it will throw an error.\n",
    "\"\"\""
   ]
  },
  {
   "cell_type": "code",
   "execution_count": 34,
   "id": "4aeeba35",
   "metadata": {},
   "outputs": [
    {
     "data": {
      "text/plain": [
       "'\\nNo keywords cannto be used as variable names.If they are assigned that particular\\nline will run but next time when that key-word is used in python logic it will throw an error.\\n'"
      ]
     },
     "execution_count": 34,
     "metadata": {},
     "output_type": "execute_result"
    }
   ],
   "source": [
    "#4. Can keywords be used as variable names?\n",
    "\n",
    "\"\"\"\n",
    "No keywords cannto be used as variable names.If they are assigned that particular\n",
    "line will run but next time when that key-word is used in python logic it will throw an error.\n",
    "\"\"\""
   ]
  },
  {
   "cell_type": "code",
   "execution_count": 35,
   "id": "37a427c9",
   "metadata": {},
   "outputs": [
    {
     "data": {
      "text/plain": [
       "'\\nMutability in Python means whether the object can be modified or not once they are created.\\n'"
      ]
     },
     "execution_count": 35,
     "metadata": {},
     "output_type": "execute_result"
    }
   ],
   "source": [
    "#5. What is mutability in Python?\n",
    "\n",
    "\"\"\"\n",
    "Mutability in Python means whether the object can be modified or not once they are created.\n",
    "\"\"\""
   ]
  },
  {
   "cell_type": "code",
   "execution_count": 45,
   "id": "273cc8ae",
   "metadata": {},
   "outputs": [
    {
     "data": {
      "text/plain": [
       "'\\nlists are mutable because one can change, add, or remove elements after the list is created.\\ntuples are immutable because one cannot change, add, or remove elements after the list is created.\\n'"
      ]
     },
     "execution_count": 45,
     "metadata": {},
     "output_type": "execute_result"
    }
   ],
   "source": [
    "#6. Why are lists mutable, but tuples are immutable?\n",
    "\"\"\"\n",
    "lists are mutable because one can change, add, or remove elements after the list is created.\n",
    "tuples are immutable because one cannot change, add, or remove elements after the list is created.\n",
    "\"\"\""
   ]
  },
  {
   "cell_type": "code",
   "execution_count": 37,
   "id": "c63cef7a",
   "metadata": {},
   "outputs": [
    {
     "data": {
      "text/plain": [
       "\"\\n       ==           |         is\\n 1. == is equality  |a. 'is' is a identity operator\\noperator            |\\n 2. it is used when |b. It is used to check if 2 variables\\nyou want to compare |point at same memory location\\n2 values            |\\n                    |\\n\""
      ]
     },
     "execution_count": 37,
     "metadata": {},
     "output_type": "execute_result"
    }
   ],
   "source": [
    "#7. What is the difference between “==” and “is” operators in Python?\n",
    "\n",
    "\"\"\"\n",
    "       ==           |         is\n",
    " 1. == is equality  |a. 'is' is a identity operator\n",
    "operator            |\n",
    " 2. it is used when |b. It is used to check if 2 variables\n",
    "you want to compare |point at same memory location\n",
    "2 values            |\n",
    "                    |\n",
    "\"\"\""
   ]
  },
  {
   "cell_type": "code",
   "execution_count": 38,
   "id": "e10d89db",
   "metadata": {},
   "outputs": [
    {
     "data": {
      "text/plain": [
       "'\\n  Operators which are used to combine multiple conditions are logical operators.\\n  eg : and, or, XOR\\n'"
      ]
     },
     "execution_count": 38,
     "metadata": {},
     "output_type": "execute_result"
    }
   ],
   "source": [
    "#8.  What are logical operators in Python ?\n",
    "\n",
    "\"\"\"\n",
    "  Operators which are used to combine multiple conditions are logical operators.\n",
    "  eg : and, or, XOR\n",
    "\"\"\""
   ]
  },
  {
   "cell_type": "code",
   "execution_count": 39,
   "id": "2fc090f0",
   "metadata": {},
   "outputs": [
    {
     "data": {
      "text/plain": [
       "'\\nType casting refers to the conversion of data-type of a value from one to another.\\n\\n'"
      ]
     },
     "execution_count": 39,
     "metadata": {},
     "output_type": "execute_result"
    }
   ],
   "source": [
    "#9. What is type casting in Python?\n",
    "\"\"\"\n",
    "Type casting refers to the conversion of data-type of a value from one to another.\n",
    "\n",
    "\"\"\""
   ]
  },
  {
   "cell_type": "code",
   "execution_count": 40,
   "id": "a6071556",
   "metadata": {},
   "outputs": [
    {
     "data": {
      "text/plain": [
       "'\\nImplicit type casting : It is done directly by python.\\nExplicit type casting : It is done by the programmer using int(), float(), str()\\n'"
      ]
     },
     "execution_count": 40,
     "metadata": {},
     "output_type": "execute_result"
    }
   ],
   "source": [
    "#10. What is the difference between implicit and explicit type casting \n",
    "\n",
    "\"\"\"\n",
    "Implicit type casting : It is done directly by python.\n",
    "Explicit type casting : It is done by the programmer using int(), float(), str()\n",
    "\"\"\""
   ]
  },
  {
   "cell_type": "code",
   "execution_count": 41,
   "id": "3a1971ba",
   "metadata": {},
   "outputs": [
    {
     "data": {
      "text/plain": [
       "'\\nConditional statements are used to make decision in the code. They execute the specific block only if the given \\nconditions are met\\n'"
      ]
     },
     "execution_count": 41,
     "metadata": {},
     "output_type": "execute_result"
    }
   ],
   "source": [
    "#11.  What is the purpose of conditional statements in Python ? \n",
    "\n",
    "\"\"\"\n",
    "Conditional statements are used to make decision in the code. They execute the specific block only if the given \n",
    "conditions are met\n",
    "\"\"\""
   ]
  },
  {
   "cell_type": "code",
   "execution_count": 42,
   "id": "0b3b95ce",
   "metadata": {},
   "outputs": [
    {
     "data": {
      "text/plain": [
       "'\\nelif statements in python work only if all the above conditions are not met. They allow programmer to check multiple conditions.\\n\\n'"
      ]
     },
     "execution_count": 42,
     "metadata": {},
     "output_type": "execute_result"
    }
   ],
   "source": [
    "#12. How does the elif statement work? \n",
    "\"\"\"\n",
    "elif statements in python work only if all the above conditions are not met. They allow programmer to check multiple conditions.\n",
    "\n",
    "\"\"\""
   ]
  },
  {
   "cell_type": "code",
   "execution_count": 43,
   "id": "af892d4e",
   "metadata": {},
   "outputs": [
    {
     "data": {
      "text/plain": [
       "'\\nfor loops : for loops are used when you know at what point you should stop the iteration.\\nwhile loops : while loops are used when you dont know at what point you should stop the iteration.\\n'"
      ]
     },
     "execution_count": 43,
     "metadata": {},
     "output_type": "execute_result"
    }
   ],
   "source": [
    "#13. What is the difference between for and while loops ?\n",
    "\n",
    "\"\"\"\n",
    "for loops : for loops are used when you know at what point you should stop the iteration.\n",
    "while loops : while loops are used when you dont know at what point you should stop the iteration.\n",
    "\"\"\""
   ]
  },
  {
   "cell_type": "code",
   "execution_count": 44,
   "id": "9d9a67ee",
   "metadata": {},
   "outputs": [
    {
     "data": {
      "text/plain": [
       "'\\nTake a case where we are developing a login system. In this case we dont know how many times the user might take to enter \\ncorrect credentials. so here while loop is best suited.\\n'"
      ]
     },
     "execution_count": 44,
     "metadata": {},
     "output_type": "execute_result"
    }
   ],
   "source": [
    "#14. Describe a scenario where a while loop is more suitable than a for loop?\n",
    "\"\"\"\n",
    "Take a case where we are developing a login system. In this case we dont know how many times the user might take to enter \n",
    "correct credentials. so here while loop is best suited.\n",
    "\"\"\""
   ]
  },
  {
   "cell_type": "markdown",
   "id": "19a7bd65",
   "metadata": {},
   "source": [
    "# Practical Questions"
   ]
  },
  {
   "cell_type": "code",
   "execution_count": 5,
   "id": "4e76791d",
   "metadata": {},
   "outputs": [
    {
     "name": "stdout",
     "output_type": "stream",
     "text": [
      "Hello, World!\n"
     ]
    }
   ],
   "source": [
    "#1. Write a Python program to print \"Hello, World!\"\n",
    "\n",
    "print(\"Hello, World!\")"
   ]
  },
  {
   "cell_type": "code",
   "execution_count": 6,
   "id": "b136aaab",
   "metadata": {},
   "outputs": [
    {
     "name": "stdout",
     "output_type": "stream",
     "text": [
      "My name is:  Aditya Joshi\n",
      "My age is:  23\n"
     ]
    }
   ],
   "source": [
    "#2. 8 Write a Python program that displays your name and age\n",
    "name = \"Aditya Joshi\"\n",
    "age = 23\n",
    "\n",
    "print(\"My name is: \", name)\n",
    "print(\"My age is: \", age)"
   ]
  },
  {
   "cell_type": "code",
   "execution_count": 7,
   "id": "14c68a70",
   "metadata": {},
   "outputs": [
    {
     "name": "stdout",
     "output_type": "stream",
     "text": [
      "List of all pre-defined keywords in Python:\n",
      "['False', 'None', 'True', '__peg_parser__', 'and', 'as', 'assert', 'async', 'await', 'break', 'class', 'continue', 'def', 'del', 'elif', 'else', 'except', 'finally', 'for', 'from', 'global', 'if', 'import', 'in', 'is', 'lambda', 'nonlocal', 'not', 'or', 'pass', 'raise', 'return', 'try', 'while', 'with', 'yield']\n"
     ]
    }
   ],
   "source": [
    "#3. Write code to print all the pre-defined keywords in Python using the keyword library\n",
    "\n",
    "import keyword\n",
    "\n",
    "print(\"List of all pre-defined keywords in Python:\")\n",
    "print(keyword.kwlist)\n"
   ]
  },
  {
   "cell_type": "code",
   "execution_count": 8,
   "id": "6daace9d",
   "metadata": {},
   "outputs": [
    {
     "name": "stdout",
     "output_type": "stream",
     "text": [
      "word: if\n",
      "'if' is a Python keyword.\n"
     ]
    }
   ],
   "source": [
    "#4. Write a program that checks if a given word is a Python keyword.\n",
    "import keyword\n",
    "\n",
    "word = input(\"word: \")\n",
    "\n",
    "if keyword.iskeyword(word):\n",
    "    print(f\"'{word}' is a Python keyword.\")\n",
    "else:\n",
    "    print(f\"'{word}' is NOT a Python keyword.\")\n"
   ]
  },
  {
   "cell_type": "code",
   "execution_count": 9,
   "id": "9d0db991",
   "metadata": {},
   "outputs": [
    {
     "name": "stdout",
     "output_type": "stream",
     "text": [
      "Original List  [1, 2, 3]\n",
      "Changed List  [10, 2, 3]\n"
     ]
    }
   ],
   "source": [
    "#5. Create a list and tuple in Python, and demonstrate how attempting to change an element works differently for each.\n",
    "l = [1,2,3]\n",
    "print(\"Original List \", l)\n",
    "l[0] = 10\n",
    "print(\"Changed List \", l)"
   ]
  },
  {
   "cell_type": "code",
   "execution_count": 10,
   "id": "a16f5124",
   "metadata": {},
   "outputs": [
    {
     "name": "stdout",
     "output_type": "stream",
     "text": [
      "Original tuple  (1, 2, 3)\n"
     ]
    }
   ],
   "source": [
    "t = (1,2,3)\n",
    "print(\"Original tuple \", t)"
   ]
  },
  {
   "cell_type": "code",
   "execution_count": 11,
   "id": "a96fbe06",
   "metadata": {},
   "outputs": [
    {
     "ename": "TypeError",
     "evalue": "'tuple' object does not support item assignment",
     "output_type": "error",
     "traceback": [
      "\u001b[1;31m---------------------------------------------------------------------------\u001b[0m",
      "\u001b[1;31mTypeError\u001b[0m                                 Traceback (most recent call last)",
      "\u001b[1;32m~\\AppData\\Local\\Temp\\ipykernel_8384\\323265189.py\u001b[0m in \u001b[0;36m<module>\u001b[1;34m\u001b[0m\n\u001b[1;32m----> 1\u001b[1;33m \u001b[0mt\u001b[0m\u001b[1;33m[\u001b[0m\u001b[1;36m0\u001b[0m\u001b[1;33m]\u001b[0m \u001b[1;33m=\u001b[0m \u001b[1;36m10\u001b[0m\u001b[1;33m\u001b[0m\u001b[1;33m\u001b[0m\u001b[0m\n\u001b[0m\u001b[0;32m      2\u001b[0m \u001b[0mprint\u001b[0m\u001b[1;33m(\u001b[0m\u001b[1;34m\"Changed tuple \"\u001b[0m\u001b[1;33m,\u001b[0m \u001b[0mt\u001b[0m\u001b[1;33m)\u001b[0m\u001b[1;33m\u001b[0m\u001b[1;33m\u001b[0m\u001b[0m\n",
      "\u001b[1;31mTypeError\u001b[0m: 'tuple' object does not support item assignment"
     ]
    }
   ],
   "source": [
    "t[0] = 10\n",
    "print(\"Changed tuple \", t)"
   ]
  },
  {
   "cell_type": "code",
   "execution_count": 14,
   "id": "9802508c",
   "metadata": {},
   "outputs": [
    {
     "name": "stdout",
     "output_type": "stream",
     "text": [
      "\n",
      "Before changing:\n",
      "list1 = [1, 2, 3]\n",
      "list2 = [1, 2, 3]\n",
      "\n",
      "After changing list1:\n",
      "list1 = [1, 2, 3, 4]\n",
      "list2 = [1, 2, 3, 4]\n"
     ]
    }
   ],
   "source": [
    "#6. Write a function to demonstrate the behavior of mutable and immutable arguments.\n",
    "\n",
    "\n",
    "#Mutable\n",
    "# Mutable Example: List\n",
    "list1 = [1, 2, 3]\n",
    "list2 = list1      # list2 points to the same list\n",
    "\n",
    "print(\"\\nBefore changing:\")\n",
    "print(\"list1 =\", list1)\n",
    "print(\"list2 =\", list2)\n",
    "\n",
    "# Change the list\n",
    "list1.append(4)\n",
    "\n",
    "print(\"\\nAfter changing list1:\")\n",
    "print(\"list1 =\", list1)\n",
    "print(\"list2 =\", list2)   # list2 is also affected because lists are mutable\n",
    "\n",
    "a = 10\n",
    "b = 10\n",
    "\n",
    "\n",
    "a = 15\n",
    "b = 10\n",
    "\n",
    "\n",
    "list1 = [1, 2, 3]\n",
    "list2 = [1, 2, 3]\n",
    "\n",
    "\n",
    "list1 = [1, 2, 3, 4]\n",
    "list2 = [1, 2, 3, 4]"
   ]
  },
  {
   "cell_type": "code",
   "execution_count": 15,
   "id": "b1909db5",
   "metadata": {},
   "outputs": [
    {
     "name": "stdout",
     "output_type": "stream",
     "text": [
      "Before changing:\n",
      "name1 = Aditya\n",
      "name2 = Aditya\n",
      "\n",
      "After changing name1:\n",
      "name1 = Aditya Joshi\n",
      "name2 = Aditya\n"
     ]
    }
   ],
   "source": [
    "#Immutable \n",
    "name1 = \"Aditya\"\n",
    "name2 = name1   \n",
    "\n",
    "print(\"Before changing:\")\n",
    "print(\"name1 =\", name1)\n",
    "print(\"name2 =\", name2)\n",
    "\n",
    "# Change name1\n",
    "name1 = name1 + \" Joshi\"  \n",
    "\n",
    "print(\"\\nAfter changing name1:\")\n",
    "print(\"name1 =\", name1)\n",
    "print(\"name2 =\", name2) \n"
   ]
  },
  {
   "cell_type": "code",
   "execution_count": 17,
   "id": "f6538146",
   "metadata": {},
   "outputs": [
    {
     "name": "stdout",
     "output_type": "stream",
     "text": [
      "Enter value of a: 4\n",
      "Enter value of b: 3\n",
      "Addition:  7\n",
      "\n",
      "Subtraction: 1\n",
      "\n",
      " Multiplication:  12\n"
     ]
    }
   ],
   "source": [
    "#7. Write a program that performs basic arithmetic operations on two user-input numbers\n",
    "\n",
    "a = int(input(\"Enter value of a: \"))\n",
    "b = int(input(\"Enter value of b: \"))\n",
    "\n",
    "#Addition\n",
    "c = a+b\n",
    "print(\"Addition: \",c)\n",
    "\n",
    "#nSubtraction\n",
    "d = a-b\n",
    "print(\"\\nSubtraction:\", d)\n",
    "\n",
    "#Multiplication\n",
    "e = a*b\n",
    "print(\"\\n Multiplication: \",e)"
   ]
  },
  {
   "cell_type": "code",
   "execution_count": 19,
   "id": "c582c8ea",
   "metadata": {},
   "outputs": [
    {
     "name": "stdout",
     "output_type": "stream",
     "text": [
      "Enter username: aditya\n",
      "Enter password: a32!@#\n",
      "Invalid username or password.\n",
      "\n",
      "You are allowed to login.\n"
     ]
    }
   ],
   "source": [
    "#8. Write a program to demonstrate the use of logical operators.\n",
    "\n",
    "\n",
    "username = input(\"Enter username: \")\n",
    "password = input(\"Enter password: \")\n",
    "\n",
    "# Check if both username and password are correct using 'and'\n",
    "if username == \"admin\" and password == \"1234\":\n",
    "    print(\"Login successful!\\n\")\n",
    "else:\n",
    "    print(\"Invalid username or password.\\n\")\n",
    "\n",
    "# Check if either username or password is empty using 'or'\n",
    "if username == \"\" or password == \"\":\n",
    "    print(\"Username or password cannot be empty.\\n\")\n",
    "\n",
    "# Using 'not' to block banned user\n",
    "banned_user = \"hacker123\"\n",
    "if not username == banned_user:\n",
    "    print(\"You are allowed to login.\")\n",
    "else:\n",
    "    print(\"Access denied. You are banned.\")\n"
   ]
  },
  {
   "cell_type": "code",
   "execution_count": 21,
   "id": "ea7bd5e0",
   "metadata": {},
   "outputs": [
    {
     "name": "stdout",
     "output_type": "stream",
     "text": [
      "Enter a value: 1\n",
      "Integer value: 1\n",
      "Float value: 1.0\n",
      "Boolean value: True\n"
     ]
    }
   ],
   "source": [
    "#9. Write a Python program to convert user input from string to integer, float, and boolean types.\n",
    "\n",
    "user_input = input(\"Enter a value: \")\n",
    "\n",
    "# Convert to integer\n",
    "int_value = int(user_input)\n",
    "print(\"Integer value:\", int_value)\n",
    "\n",
    "# Convert to float\n",
    "float_value = float(user_input)\n",
    "print(\"Float value:\", float_value)\n",
    "\n",
    "# Convert to boolean\n",
    "bool_value = bool(user_input)\n",
    "print(\"Boolean value:\", bool_value)\n"
   ]
  },
  {
   "cell_type": "code",
   "execution_count": 23,
   "id": "399776a5",
   "metadata": {},
   "outputs": [
    {
     "name": "stdout",
     "output_type": "stream",
     "text": [
      "Original list: [1, 2, 30]\n",
      "Changed list: [1.0, 2, '30']\n"
     ]
    }
   ],
   "source": [
    "#10.  Write code to demonstrate type casting with list elements\n",
    "\n",
    "numbers = [1, 2, 30]\n",
    "\n",
    "print(\"Original list:\", numbers)\n",
    "\n",
    "numbers[0] = float(numbers[0])\n",
    "numbers[2] = str(numbers[2])\n",
    "\n",
    "print(\"Changed list:\", numbers)\n",
    "\n"
   ]
  },
  {
   "cell_type": "code",
   "execution_count": 24,
   "id": "e5e763f7",
   "metadata": {},
   "outputs": [
    {
     "name": "stdout",
     "output_type": "stream",
     "text": [
      "Enter value: 1\n",
      "positive\n"
     ]
    }
   ],
   "source": [
    "#11. Write a program that checks if a number is positive, negative, or zero.\n",
    "number = int(input(\"Enter value: \"))\n",
    "\n",
    "if number > 0:\n",
    "    print(\"positive\")\n",
    "elif number < 0:\n",
    "    print(\"negative\")\n",
    "else: \n",
    "    print(\"zero\")"
   ]
  },
  {
   "cell_type": "code",
   "execution_count": 25,
   "id": "6ba8b8b8",
   "metadata": {},
   "outputs": [
    {
     "name": "stdout",
     "output_type": "stream",
     "text": [
      "1\n",
      "2\n",
      "3\n",
      "4\n",
      "5\n",
      "6\n",
      "7\n",
      "8\n",
      "9\n",
      "10\n"
     ]
    }
   ],
   "source": [
    "#12.  Write a for loop to print numbers from 1 to 10.\n",
    "for i in range(1,11):\n",
    "    print(i)"
   ]
  },
  {
   "cell_type": "code",
   "execution_count": 26,
   "id": "4bb0d23d",
   "metadata": {},
   "outputs": [
    {
     "name": "stdout",
     "output_type": "stream",
     "text": [
      "650\n"
     ]
    }
   ],
   "source": [
    "#13. Write a Python program to find the sum of all even numbers between 1 and 50.\n",
    "add = 0\n",
    "for i in range(1,51):\n",
    "    if (i%2 == 0):\n",
    "        add += i\n",
    "print(add)"
   ]
  },
  {
   "cell_type": "code",
   "execution_count": 29,
   "id": "e5c68a44",
   "metadata": {},
   "outputs": [
    {
     "name": "stdout",
     "output_type": "stream",
     "text": [
      "Enter a string: aditya\n",
      "Reversed string: aytida\n"
     ]
    }
   ],
   "source": [
    "#14. Write a program to reverse a string using a while loop.\n",
    "\n",
    "text = input(\"Enter a string: \")\n",
    "reverse = \"\"\n",
    "i = len(text) - 1\n",
    "while i >= 0:\n",
    "    reverse += text[i]\n",
    "    i -= 1\n",
    "print(\"Reversed string:\", reverse)\n"
   ]
  },
  {
   "cell_type": "code",
   "execution_count": 30,
   "id": "a71894ce",
   "metadata": {},
   "outputs": [
    {
     "name": "stdout",
     "output_type": "stream",
     "text": [
      "Enter a number: 4\n",
      "Factorial of 4 is 24\n"
     ]
    }
   ],
   "source": [
    "#15. Write a Python program to calculate the factorial of a number provided by the user using a while loop.\n",
    "\n",
    "\n",
    "num = int(input(\"Enter a number: \"))\n",
    "factorial = 1\n",
    "i = 1\n",
    "while i <= num:\n",
    "    factorial *= i\n",
    "    i += 1\n",
    "print(\"Factorial of\", num, \"is\", factorial)\n"
   ]
  },
  {
   "cell_type": "code",
   "execution_count": null,
   "id": "ad07fe94",
   "metadata": {},
   "outputs": [],
   "source": []
  }
 ],
 "metadata": {
  "kernelspec": {
   "display_name": "Python 3 (ipykernel)",
   "language": "python",
   "name": "python3"
  },
  "language_info": {
   "codemirror_mode": {
    "name": "ipython",
    "version": 3
   },
   "file_extension": ".py",
   "mimetype": "text/x-python",
   "name": "python",
   "nbconvert_exporter": "python",
   "pygments_lexer": "ipython3",
   "version": "3.9.13"
  }
 },
 "nbformat": 4,
 "nbformat_minor": 5
}
