{
 "cells": [
  {
   "cell_type": "markdown",
   "id": "1db3a645",
   "metadata": {},
   "source": [
    "# Data Types and Structures Questions"
   ]
  },
  {
   "cell_type": "code",
   "execution_count": null,
   "id": "7250db49",
   "metadata": {},
   "outputs": [],
   "source": [
    "# 1. What are data structures, and why are they important?\n",
    "\"\"\"\n",
    "In python data structures are the way of organizing and storing data to efficiently use and manipulate data.\n",
    "Importance of data Structures\n",
    "    -They help in organizing data efficiently.\n",
    "    -Accessing data becomes efficient\n",
    "\"\"\""
   ]
  },
  {
   "cell_type": "code",
   "execution_count": null,
   "id": "f32c7e1b",
   "metadata": {},
   "outputs": [],
   "source": [
    "#  2.  Explain the difference between mutable and immutable data types with examples?\n",
    "\"\"\"\n",
    "Data Types which can be changed once they are created are mutable datatypes and data types which cannot be changed once they \n",
    "are created are immutable data types.\n",
    "Example : \n",
    "    - mutable data types : list, dictonary, sets\n",
    "    - immutable data types : string, tuple\n",
    "\n",
    "\"\"\""
   ]
  },
  {
   "cell_type": "code",
   "execution_count": null,
   "id": "61ae4577",
   "metadata": {},
   "outputs": [],
   "source": [
    "# 3. What are the main differences between lists and tuples in Python?\n",
    "\"\"\"\n",
    "Difference between lists and typle in python is : \n",
    "    - Lists are mutable and tuples are immutable\n",
    "    - Lists are initialized as l = [] and tuples are initialized as t = ()\n",
    "    \n",
    "\"\"\""
   ]
  },
  {
   "cell_type": "code",
   "execution_count": null,
   "id": "08e38bd9",
   "metadata": {},
   "outputs": [],
   "source": [
    "# 4.  Describe how dictionaries store data?\n",
    "\"\"\"\n",
    "Dictonaries stores data in key-value pair\n",
    "Eg : d - {\n",
    "    \"name\" : \"Aditya\",\n",
    "    \"Age\" : 23\n",
    "}\n",
    "\"\"\""
   ]
  },
  {
   "cell_type": "code",
   "execution_count": null,
   "id": "80ef61b0",
   "metadata": {},
   "outputs": [],
   "source": [
    "# 5.  Why might you use a set instead of a list in Python?\n",
    "\"\"\"\n",
    "1. When we want only distinct elements.\n",
    "2. When we want to perform sets operations finding unique, union, symmetric_difference, difference\n",
    "\n",
    "\"\"\""
   ]
  },
  {
   "cell_type": "code",
   "execution_count": null,
   "id": "580eb51f",
   "metadata": {},
   "outputs": [],
   "source": [
    "# 6. What is a string in Python, and how is it different from a list?\n",
    "\"\"\"\n",
    "In python string is a data structure which is used to store characters.\n",
    "Difference in list and string:\n",
    "    - String is immutable and list is mutable\n",
    "    - String stores only textual data and list can store all types of data\n",
    "\"\"\""
   ]
  },
  {
   "cell_type": "code",
   "execution_count": null,
   "id": "7a382cf1",
   "metadata": {},
   "outputs": [],
   "source": [
    "# 7. How do tuples ensure data integrity in Python?\n",
    "\"\"\"\n",
    "tuple ensure data integrity:\n",
    "    - tuple is immutable. \n",
    "    - Maintaining a consistent structure.\n",
    "\"\"\""
   ]
  },
  {
   "cell_type": "code",
   "execution_count": null,
   "id": "2470e2bf",
   "metadata": {},
   "outputs": [],
   "source": [
    "# 8. What is a hash table, and how does it relate to dictionaries in Python?\n",
    "\"\"\"\n",
    "A hash table is a data structure that maps keys to values using a hash function, and in Python, the built-in \n",
    "dictionary (dict) is implemented using a hash table for fast key-based access.\n",
    "\"\"\""
   ]
  },
  {
   "cell_type": "code",
   "execution_count": null,
   "id": "5fac187c",
   "metadata": {},
   "outputs": [],
   "source": [
    "# 9. Can lists contain different data types in Python?\n",
    "\"\"\"\n",
    "Yes, lists can store different data type\n",
    "\"\"\""
   ]
  },
  {
   "cell_type": "code",
   "execution_count": 1,
   "id": "b67be355",
   "metadata": {},
   "outputs": [
    {
     "data": {
      "text/plain": [
       "['a', 1, 2.9, True, (3+4j)]"
      ]
     },
     "execution_count": 1,
     "metadata": {},
     "output_type": "execute_result"
    }
   ],
   "source": [
    "# Example\n",
    "l = ['a',1,2.9,True,3+4j]\n",
    "l"
   ]
  },
  {
   "cell_type": "code",
   "execution_count": null,
   "id": "63bc398e",
   "metadata": {},
   "outputs": [],
   "source": [
    "# 10. Explain why strings are immutable in Python?\n",
    "\"\"\"\n",
    "Strings are immutable in Python because once a string is created,\n",
    "its contents cannot be changed.\n",
    "\"\"\""
   ]
  },
  {
   "cell_type": "code",
   "execution_count": 1,
   "id": "d7a0f3a3",
   "metadata": {},
   "outputs": [],
   "source": [
    "# 11. What advantages do dictionaries offer over lists for certain tasks?\n",
    "\"\"\"\n",
    "Dictonaries can store key value pairs which lists dont. Because of key value pairs \n",
    "the searching operations become more fast as we can search directly based on keys\n",
    "rather than searching for indexes to find an item.\n",
    "\"\"\""
   ]
  },
  {
   "cell_type": "code",
   "execution_count": null,
   "id": "f83c235d",
   "metadata": {},
   "outputs": [],
   "source": [
    "# 12.  Describe a scenario where using a tuple would be preferable over a list?\n",
    "\"\"\"\n",
    "As tuple is immutable it is more prefered to store unchangable data\n",
    "like storing aadhar number, bank account number,etc.\n",
    "\"\"\""
   ]
  },
  {
   "cell_type": "code",
   "execution_count": 2,
   "id": "78f355f8",
   "metadata": {},
   "outputs": [
    {
     "data": {
      "text/plain": [
       "{1, 2, 3}"
      ]
     },
     "execution_count": 2,
     "metadata": {},
     "output_type": "execute_result"
    }
   ],
   "source": [
    "# 13. How do sets handle duplicate values in Python?\n",
    "\"\"\"\n",
    "Sets dont handle any multiple values as they store only unique values.\n",
    "even if the multiple same items are sent it only stores them\n",
    "one time\n",
    "\"\"\"\n",
    "\n",
    "# Example\n",
    "\n",
    "s = {1,2,1,2,3,2,1,3}\n",
    "s"
   ]
  },
  {
   "cell_type": "code",
   "execution_count": 8,
   "id": "898b28eb",
   "metadata": {},
   "outputs": [
    {
     "name": "stdout",
     "output_type": "stream",
     "text": [
      "True\n",
      "True\n",
      "False\n"
     ]
    }
   ],
   "source": [
    "# 14. How does the “in” keyword work differently for lists and dictionaries?\n",
    "\"\"\"\n",
    "For dictonaries \"in\" keyword looke for keys and in Lists \"in\"\n",
    "keyword looks for values\n",
    "\"\"\"\n",
    "lst = [1,2,3]\n",
    "data = {\"name\": \"Aditya\", \"age\": 22}\n",
    "print(2 in lst)\n",
    "print(\"name\" in data)     #True – checks if key \"name\" exists\n",
    "print(\"Aditya\" in data)   # False – doesn't check values"
   ]
  },
  {
   "cell_type": "code",
   "execution_count": null,
   "id": "fbaf701e",
   "metadata": {},
   "outputs": [],
   "source": [
    "# 15. Can you modify the elements of a tuple? Explain why or why not?\n",
    "\"\"\"\n",
    "No, we cannot modify the elements of a tuple as tuples are immutable.\n",
    "\"\"\""
   ]
  },
  {
   "cell_type": "code",
   "execution_count": 10,
   "id": "80594afd",
   "metadata": {},
   "outputs": [
    {
     "name": "stdout",
     "output_type": "stream",
     "text": [
      "Aditya\n"
     ]
    }
   ],
   "source": [
    "# 16.What is a nested dictionary, and give an example of its use case?\n",
    "\"\"\"\n",
    "A dictonary defined inside a dictonary is nested dictonary.\n",
    "\"\"\"\n",
    "# example :\n",
    "students = {\n",
    "     \"101\": {\"name\": \"Aditya\", \"age\": 22, \"grade\": \"A\"},\n",
    "    \"102\": {\"name\": \"Riya\", \"age\": 21, \"grade\": \"B\"}\n",
    "\n",
    "}\n",
    "print(students[\"101\"][\"name\"])\n",
    "\n",
    "\"\"\"\n",
    "It is used to represent complex data like json, hierarchical data\n",
    "\"\"\""
   ]
  },
  {
   "cell_type": "code",
   "execution_count": null,
   "id": "2088d2e6",
   "metadata": {},
   "outputs": [],
   "source": [
    "# 17. Describe the time complexity of accessing elements in a dictionary?\n",
    "\"\"\"\n",
    "Accessing elements in a dictionary has a time complexity of O(1)\n",
    "\"\"\""
   ]
  },
  {
   "cell_type": "code",
   "execution_count": null,
   "id": "cee9905b",
   "metadata": {},
   "outputs": [],
   "source": [
    "# 18. In what situations are lists preferred over dictionaries?\n",
    "\"\"\"\n",
    "Situations where lists are prefered over dictonaries:\n",
    "    - Duplicates are allowed\n",
    "    - Labels of values doesnt matter\n",
    "\"\"\""
   ]
  },
  {
   "cell_type": "code",
   "execution_count": null,
   "id": "add00b1a",
   "metadata": {},
   "outputs": [],
   "source": [
    "# 19. Why are dictionaries considered unordered, and how does that affect data retrieval?\n",
    "\"\"\"\n",
    "Dictionaries were traditionally considered unordered because they\n",
    "didn’t preserve the insertion order of keys \n",
    "Retrieval is key-based, not position-based—so you must know the\n",
    "key to access data.\n",
    "\"\"\""
   ]
  },
  {
   "cell_type": "code",
   "execution_count": null,
   "id": "67ac1f3a",
   "metadata": {},
   "outputs": [],
   "source": [
    "# 20. Explain the difference between a list and a dictionary in terms of data retrieval?\n",
    "\"\"\"\n",
    "In dictonary we access data by its key and in list we access \n",
    "data based on its index\n",
    "\"\"\""
   ]
  },
  {
   "cell_type": "markdown",
   "id": "71f52215",
   "metadata": {},
   "source": [
    "# Practical Questions"
   ]
  },
  {
   "cell_type": "code",
   "execution_count": 11,
   "id": "8b4dc731",
   "metadata": {},
   "outputs": [
    {
     "name": "stdout",
     "output_type": "stream",
     "text": [
      "Aditya Joshi\n"
     ]
    }
   ],
   "source": [
    "# 1. Write a code to create a string with your name and print it?\n",
    "name = \"Aditya Joshi\"\n",
    "print(name)"
   ]
  },
  {
   "cell_type": "code",
   "execution_count": 12,
   "id": "dadb637d",
   "metadata": {},
   "outputs": [
    {
     "name": "stdout",
     "output_type": "stream",
     "text": [
      "11\n"
     ]
    }
   ],
   "source": [
    "# 2. Write a code to find the length of the string \"Hello World\"?\n",
    "st = \"Hello World\"\n",
    "print(len(st))"
   ]
  },
  {
   "cell_type": "code",
   "execution_count": 13,
   "id": "533f70aa",
   "metadata": {},
   "outputs": [
    {
     "name": "stdout",
     "output_type": "stream",
     "text": [
      "Pyt\n"
     ]
    }
   ],
   "source": [
    "# 3. Write a code to slice the first 3 characters from the string \"Python Programming\"?\n",
    "st2 = \"Python Programming\"\n",
    "print(st2[:3])"
   ]
  },
  {
   "cell_type": "code",
   "execution_count": 14,
   "id": "b22d564c",
   "metadata": {},
   "outputs": [
    {
     "data": {
      "text/plain": [
       "'HELLO'"
      ]
     },
     "execution_count": 14,
     "metadata": {},
     "output_type": "execute_result"
    }
   ],
   "source": [
    "# 4. Write a code to convert the string \"hello\" to uppercase?\n",
    "st3 = \"hello\"\n",
    "st3.upper()"
   ]
  },
  {
   "cell_type": "code",
   "execution_count": 16,
   "id": "999411f7",
   "metadata": {},
   "outputs": [
    {
     "name": "stdout",
     "output_type": "stream",
     "text": [
      "I like orange\n"
     ]
    }
   ],
   "source": [
    "# 5.Write a code to replace the word \"apple\" with \"orange\" in the string \"I like apple\"?\n",
    "st4 = \"I like apple\"\n",
    "st4 = st4.replace(\"apple\",\"orange\")\n",
    "print(st4)"
   ]
  },
  {
   "cell_type": "code",
   "execution_count": 17,
   "id": "e6d0f055",
   "metadata": {},
   "outputs": [
    {
     "name": "stdout",
     "output_type": "stream",
     "text": [
      "[1, 2, 3, 4, 5]\n"
     ]
    }
   ],
   "source": [
    "# 6. Write a code to create a list with numbers 1 to 5 and print it?\n",
    "numbers = [1, 2, 3, 4, 5]\n",
    "print(numbers)"
   ]
  },
  {
   "cell_type": "code",
   "execution_count": 19,
   "id": "cad43b1b",
   "metadata": {},
   "outputs": [
    {
     "name": "stdout",
     "output_type": "stream",
     "text": [
      "[1, 2, 3, 4, 10]\n"
     ]
    }
   ],
   "source": [
    "# 7. Write a code to append the number 10 to the list [1, 2, 3, 4]?\n",
    "lst = [1, 2, 3, 4]\n",
    "lst.append(10)\n",
    "print(lst)"
   ]
  },
  {
   "cell_type": "code",
   "execution_count": 20,
   "id": "2a892e1a",
   "metadata": {},
   "outputs": [
    {
     "name": "stdout",
     "output_type": "stream",
     "text": [
      "[1, 2, 4, 5]\n"
     ]
    }
   ],
   "source": [
    "# 8. Write a code to remove the number 3 from the list [1, 2, 3, 4, 5]?\n",
    "lst2 =  [1, 2, 3, 4, 5]\n",
    "lst2.remove(3)\n",
    "print(lst2)"
   ]
  },
  {
   "cell_type": "code",
   "execution_count": 21,
   "id": "4d7ad01b",
   "metadata": {},
   "outputs": [
    {
     "data": {
      "text/plain": [
       "'b'"
      ]
     },
     "execution_count": 21,
     "metadata": {},
     "output_type": "execute_result"
    }
   ],
   "source": [
    "# 9. Write a code to access the second element in the list ['a', 'b', 'c', 'd']?\n",
    "lst3 = ['a', 'b', 'c', 'd']\n",
    "lst3[1]"
   ]
  },
  {
   "cell_type": "code",
   "execution_count": 24,
   "id": "eee2a04b",
   "metadata": {},
   "outputs": [
    {
     "name": "stdout",
     "output_type": "stream",
     "text": [
      "[50, 40, 30, 20, 10]\n"
     ]
    }
   ],
   "source": [
    "# 10. Write a code to reverse the list [10, 20, 30, 40, 50]?\n",
    "lst4 = [10, 20, 30, 40, 50]\n",
    "lst4.reverse()\n",
    "print(lst4)"
   ]
  },
  {
   "cell_type": "code",
   "execution_count": 26,
   "id": "8540c03f",
   "metadata": {},
   "outputs": [
    {
     "name": "stdout",
     "output_type": "stream",
     "text": [
      "(100, 200, 300)\n"
     ]
    }
   ],
   "source": [
    "# 11. Write a code? to create a tuple with the elements 100, 200, 300 and print it?\n",
    "tup = (100,200,300)\n",
    "print(tup)"
   ]
  },
  {
   "cell_type": "code",
   "execution_count": 28,
   "id": "d47290f2",
   "metadata": {},
   "outputs": [
    {
     "data": {
      "text/plain": [
       "'blue'"
      ]
     },
     "execution_count": 28,
     "metadata": {},
     "output_type": "execute_result"
    }
   ],
   "source": [
    "# 12.  Write a code to access the second-to-last element of the tuple ('red', 'green', 'blue', 'yellow')\n",
    "tup2 = ('red', 'green', 'blue', 'yellow')\n",
    "tup2[-2]"
   ]
  },
  {
   "cell_type": "code",
   "execution_count": 30,
   "id": "8f57fb57",
   "metadata": {},
   "outputs": [
    {
     "data": {
      "text/plain": [
       "5"
      ]
     },
     "execution_count": 30,
     "metadata": {},
     "output_type": "execute_result"
    }
   ],
   "source": [
    "# 13.  Write a code to find the minimum number in the tuple (10, 20, 5, 15)?\n",
    "tup3 = (10, 20, 5, 15)\n",
    "min(tup3)"
   ]
  },
  {
   "cell_type": "code",
   "execution_count": 32,
   "id": "54d7636a",
   "metadata": {},
   "outputs": [
    {
     "data": {
      "text/plain": [
       "1"
      ]
     },
     "execution_count": 32,
     "metadata": {},
     "output_type": "execute_result"
    }
   ],
   "source": [
    "# 14. Write a code to find the index of the element \"cat\" in the tuple ('dog', 'cat', 'rabbit')?\n",
    "tup4 = ('dog', 'cat', 'rabbit')\n",
    "tup4.index('cat')"
   ]
  },
  {
   "cell_type": "code",
   "execution_count": 33,
   "id": "be8f2e7d",
   "metadata": {},
   "outputs": [
    {
     "name": "stdout",
     "output_type": "stream",
     "text": [
      "False\n"
     ]
    }
   ],
   "source": [
    "# 15. Write a code to create a tuple containing three different fruits and check if \"kiwi\" is in it?\n",
    "\n",
    "fruits = (\"apple\", \"banana\", \"orange\")\n",
    "\n",
    "print(\"kiwi\" in fruits) \n"
   ]
  },
  {
   "cell_type": "code",
   "execution_count": 34,
   "id": "622aa0f3",
   "metadata": {},
   "outputs": [
    {
     "name": "stdout",
     "output_type": "stream",
     "text": [
      "{'a', 'b', 'c'}\n"
     ]
    }
   ],
   "source": [
    "# 16. Write a code to create a set with the elements 'a', 'b', 'c' and print it?\n",
    "set1 = {'a', 'b', 'c'}\n",
    "print(set1)"
   ]
  },
  {
   "cell_type": "code",
   "execution_count": 35,
   "id": "616848a5",
   "metadata": {},
   "outputs": [
    {
     "name": "stdout",
     "output_type": "stream",
     "text": [
      "set()\n"
     ]
    }
   ],
   "source": [
    "# 17. Write a code to clear all elements from the set {1, 2, 3, 4, 5}.\n",
    "s = {1, 2, 3, 4, 5}\n",
    "s.clear()\n",
    "print(s)"
   ]
  },
  {
   "cell_type": "code",
   "execution_count": 37,
   "id": "aa0d958b",
   "metadata": {},
   "outputs": [
    {
     "name": "stdout",
     "output_type": "stream",
     "text": [
      "{1, 2, 3}\n"
     ]
    }
   ],
   "source": [
    "# 18. Write a code to remove the element 4 from the set {1, 2, 3, 4}\n",
    "set2 = {1, 2, 3, 4}\n",
    "set2.remove(4)\n",
    "print(set2)"
   ]
  },
  {
   "cell_type": "code",
   "execution_count": 38,
   "id": "cea6190b",
   "metadata": {},
   "outputs": [
    {
     "name": "stdout",
     "output_type": "stream",
     "text": [
      "{1, 2, 3, 4, 5}\n"
     ]
    }
   ],
   "source": [
    "# 19.  Write a code to find the union of two sets {1, 2, 3} and {3, 4, 5}.\n",
    "set3 = {1, 2, 3} \n",
    "set4 = {3, 4, 5}\n",
    "print(set3 | set4)"
   ]
  },
  {
   "cell_type": "code",
   "execution_count": 39,
   "id": "f2fc0d05",
   "metadata": {},
   "outputs": [
    {
     "name": "stdout",
     "output_type": "stream",
     "text": [
      "{2, 3}\n"
     ]
    }
   ],
   "source": [
    "# 20.  Write a code to find the intersection of two sets {1, 2, 3} and {2, 3, 4}.\n",
    "set5 = {1, 2, 3} \n",
    "set6 = {2, 3, 4}\n",
    "print(set5 & set6)"
   ]
  },
  {
   "cell_type": "code",
   "execution_count": 40,
   "id": "fc0e98e9",
   "metadata": {},
   "outputs": [
    {
     "name": "stdout",
     "output_type": "stream",
     "text": [
      "{'name': 'Aditya', 'Age': 22, 'city': 'Pune'}\n"
     ]
    }
   ],
   "source": [
    "# 21.  Write a code to create a dictionary with the keys \"name\", \"age\", and \"city\", and print it.\n",
    "dict1 = {\n",
    "    \"name\" : \"Aditya\",\n",
    "    \"Age\" : 22,\n",
    "    \"city\" : \"Pune\"\n",
    "}\n",
    "print(dict1)"
   ]
  },
  {
   "cell_type": "code",
   "execution_count": 41,
   "id": "14e92649",
   "metadata": {},
   "outputs": [
    {
     "name": "stdout",
     "output_type": "stream",
     "text": [
      "{'name': 'John', 'age': 25, 'country': 'USA'}\n"
     ]
    }
   ],
   "source": [
    "# 22.  Write a code to add a new key-value pair \"country\": \"USA\" to the dictionary {'name': 'John', 'age': 25}.\n",
    "dict2 = {'name': 'John', 'age': 25}\n",
    "dict2['country'] = \"USA\"\n",
    "print(dict2)"
   ]
  },
  {
   "cell_type": "code",
   "execution_count": 42,
   "id": "a5bad2c6",
   "metadata": {},
   "outputs": [
    {
     "name": "stdout",
     "output_type": "stream",
     "text": [
      "Alice\n"
     ]
    }
   ],
   "source": [
    "# 23.  Write a code to access the value associated with the key \"name\" in the dictionary {'name': 'Alice', 'age': 30}.\n",
    "dict3 = {'name': 'Alice', 'age': 30}\n",
    "print(dict3['name'])"
   ]
  },
  {
   "cell_type": "code",
   "execution_count": 43,
   "id": "2113eb59",
   "metadata": {},
   "outputs": [
    {
     "name": "stdout",
     "output_type": "stream",
     "text": [
      "{'name': 'Bob', 'city': 'New York'}\n"
     ]
    }
   ],
   "source": [
    "# 24.  Write a code to remove the key \"age\" from the dictionary {'name': 'Bob', 'age': 22, 'city': 'New York'}.\n",
    "dict4 = {'name': 'Bob', 'age': 22, 'city': 'New York'}\n",
    "dict4.pop('age')\n",
    "print(dict4)"
   ]
  },
  {
   "cell_type": "code",
   "execution_count": 44,
   "id": "3764de92",
   "metadata": {},
   "outputs": [
    {
     "name": "stdout",
     "output_type": "stream",
     "text": [
      "True\n"
     ]
    }
   ],
   "source": [
    "# 25.  Write a code to check if the key \"city\" exists in the dictionary {'name': 'Alice', 'city': 'Paris'}.\n",
    "dict5 = {'name': 'Alice', 'city': 'Paris'}\n",
    "print('city' in dict5)\n"
   ]
  },
  {
   "cell_type": "code",
   "execution_count": 45,
   "id": "0fd41be6",
   "metadata": {},
   "outputs": [
    {
     "name": "stdout",
     "output_type": "stream",
     "text": [
      "List:  [1, 2, 3]\n",
      "Tuple:  [4, 5, 6]\n",
      "Dictonary:  {'name': 'Aditya', 'Age': 22}\n"
     ]
    }
   ],
   "source": [
    "# 26.  Write a code to create a list, a tuple, and a dictionary, and print them all.\n",
    "l = [1,2,3]\n",
    "t = [4,5,6]\n",
    "d = {\"name\" : \"Aditya\", \"Age\" : 22}\n",
    "print(\"List: \",l)\n",
    "print(\"Tuple: \", t)\n",
    "print(\"Dictonary: \", d)"
   ]
  },
  {
   "cell_type": "code",
   "execution_count": 47,
   "id": "d3d61862",
   "metadata": {},
   "outputs": [
    {
     "name": "stdout",
     "output_type": "stream",
     "text": [
      "[7, 16, 23, 42, 89]\n"
     ]
    }
   ],
   "source": [
    "# 27.  Write a code to create a list of 5 random numbers between 1 and 100, sort it in ascending order, and print the result.(replaced)?\n",
    "numbers = [42, 7, 89, 23, 16]\n",
    "numbers.sort()\n",
    "print(numbers) \n"
   ]
  },
  {
   "cell_type": "code",
   "execution_count": 48,
   "id": "4a739757",
   "metadata": {},
   "outputs": [
    {
     "data": {
      "text/plain": [
       "'Grapes'"
      ]
     },
     "execution_count": 48,
     "metadata": {},
     "output_type": "execute_result"
    }
   ],
   "source": [
    "# 28.  Write a code to create a list with strings and print the element at the third index.\n",
    "l2 = [\"Apple\", \"Orange\", \"Banana\", \"Grapes\", \"Kiwi\"]\n",
    "l2[3]"
   ]
  },
  {
   "cell_type": "code",
   "execution_count": 49,
   "id": "bf43700d",
   "metadata": {},
   "outputs": [
    {
     "name": "stdout",
     "output_type": "stream",
     "text": [
      "{'a': 1, 'b': 2, 'c': 3, 'd': 4}\n"
     ]
    }
   ],
   "source": [
    "# 29.  Write a code to combine two dictionaries into one and print the result\n",
    "dict1 = {'a': 1, 'b': 2}\n",
    "dict2 = {'c': 3, 'd': 4}\n",
    "\n",
    "dict1.update(dict2)\n",
    "print(dict1)"
   ]
  },
  {
   "cell_type": "code",
   "execution_count": 50,
   "id": "0a368d0f",
   "metadata": {},
   "outputs": [
    {
     "name": "stdout",
     "output_type": "stream",
     "text": [
      "{'banana', 'orange', 'apple'}\n"
     ]
    }
   ],
   "source": [
    "# 30.  Write a code to convert a list of strings into a set.\n",
    "l = [\"apple\", \"banana\", \"apple\", \"orange\"]\n",
    "s = set(l)\n",
    "print(s)"
   ]
  },
  {
   "cell_type": "code",
   "execution_count": null,
   "id": "36193f33",
   "metadata": {},
   "outputs": [],
   "source": []
  }
 ],
 "metadata": {
  "kernelspec": {
   "display_name": "Python 3 (ipykernel)",
   "language": "python",
   "name": "python3"
  },
  "language_info": {
   "codemirror_mode": {
    "name": "ipython",
    "version": 3
   },
   "file_extension": ".py",
   "mimetype": "text/x-python",
   "name": "python",
   "nbconvert_exporter": "python",
   "pygments_lexer": "ipython3",
   "version": "3.9.13"
  }
 },
 "nbformat": 4,
 "nbformat_minor": 5
}
